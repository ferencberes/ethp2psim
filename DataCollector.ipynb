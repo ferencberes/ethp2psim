{
 "cells": [
  {
   "cell_type": "code",
   "execution_count": null,
   "id": "a87955a7-47c3-4e9b-af6c-36e4d04075d5",
   "metadata": {},
   "outputs": [],
   "source": [
    "import numpy as np\n",
    "from urllib.request import urlopen\n",
    "import json\n",
    "import matplotlib.pyplot as plt\n",
    "import networkx as nx\n",
    "import pandas as pd\n",
    "%matplotlib inline"
   ]
  },
  {
   "cell_type": "code",
   "execution_count": null,
   "id": "6b5d384c-9719-43f8-a05f-65b21110a9ec",
   "metadata": {},
   "outputs": [],
   "source": [
    "url = \"https://api.rated.network/v0/eth/operators?window=7d&idType=depositAddress&from=10000&size=1000\""
   ]
  },
  {
   "cell_type": "code",
   "execution_count": null,
   "id": "b05f075d-acac-44ac-978b-3fd34f34572f",
   "metadata": {},
   "outputs": [],
   "source": [
    "response = urlopen(url)"
   ]
  },
  {
   "cell_type": "code",
   "execution_count": null,
   "id": "ae9445cd-1d6a-4af8-b394-9f9c54391248",
   "metadata": {},
   "outputs": [],
   "source": [
    "data_json = json.loads(response.read())"
   ]
  },
  {
   "cell_type": "code",
   "execution_count": null,
   "id": "58fe4dc1-4cda-46fe-8e92-cd4aaf5f40f1",
   "metadata": {},
   "outputs": [],
   "source": [
    "print(len(data_json['data']))"
   ]
  },
  {
   "cell_type": "code",
   "execution_count": null,
   "id": "ec9ab435-6f60-4603-bfe2-05e6136f3018",
   "metadata": {},
   "outputs": [],
   "source": [
    "validatorCounts = []"
   ]
  },
  {
   "cell_type": "code",
   "execution_count": null,
   "id": "e2f773a6-9c6e-4a4f-93ee-3a4072681d24",
   "metadata": {},
   "outputs": [],
   "source": [
    "for i in range(1000):\n",
    "    validatorCounts.append(data_json['data'][i:i+1][0].get('validatorCount'))\n",
    "    #print(data_json['data'][i:i+1][0].get('id'),data_json['data'][i:i+1][0].get('validatorCount'))"
   ]
  },
  {
   "cell_type": "code",
   "execution_count": null,
   "id": "b0d70f4f-8696-488c-a7e1-ede397f80c80",
   "metadata": {},
   "outputs": [],
   "source": [
    "plt.hist(validatorCounts, bins=100, density=False)\n",
    "plt.yscale('log')\n",
    "#plt.xscale('log')\n",
    "plt.xlabel('Stake size (in ETH)')\n",
    "plt.ylabel('Count')\n",
    "plt.title('Stake distribution of the Ethereum Proof-of-stake validators')\n",
    "plt.savefig('figures/stakeDistribution.pdf')\n",
    "plt.show()"
   ]
  },
  {
   "cell_type": "code",
   "execution_count": null,
   "id": "e679c89d-e53d-497d-b909-40909dd57f7b",
   "metadata": {},
   "outputs": [],
   "source": [
    "len(validatorCounts)\n",
    "np.array(validatorCounts).dump(open('figures/validatorCounts.npy', 'wb'))"
   ]
  },
  {
   "cell_type": "code",
   "execution_count": null,
   "id": "a5be61e4-0304-4f11-bf93-9f8dfcc46c82",
   "metadata": {},
   "outputs": [],
   "source": [
    "sendingProbabilities = []\n",
    "for i in range(len(validatorCounts)):\n",
    "    prob = validatorCounts[i]/sum(validatorCounts)\n",
    "    sendingProbabilities.append(prob)\n",
    "np.array(validatorCounts).dump(open('figures/sendingProbabilities.npy', 'wb'))"
   ]
  },
  {
   "cell_type": "code",
   "execution_count": null,
   "id": "52eca42b-8d22-4c15-8fad-23d1064614c0",
   "metadata": {},
   "outputs": [],
   "source": [
    "pdf = np.load(open('figures/sendingProbabilities.npy', 'rb'), allow_pickle=True)"
   ]
  },
  {
   "cell_type": "code",
   "execution_count": null,
   "id": "b30c66ae-cdca-434a-b72f-60e50bcc44fd",
   "metadata": {},
   "outputs": [],
   "source": [
    "count, bins_count = np.histogram(validatorCounts, bins=100)"
   ]
  },
  {
   "cell_type": "code",
   "execution_count": null,
   "id": "c6621aa8-7c36-4632-b8e3-f902dbeb66a9",
   "metadata": {},
   "outputs": [],
   "source": [
    "len(pdf)\n",
    "print(pdf[:20])"
   ]
  },
  {
   "cell_type": "code",
   "execution_count": null,
   "id": "9a357b39-14f6-4ac2-99de-dd0aae39e437",
   "metadata": {},
   "outputs": [],
   "source": [
    "cdf = np.cumsum(pdf)\n",
    "cdf = cdf/np.sum(pdf)\n",
    "pdf = pdf/np.sum(pdf)\n",
    "print(pdf[:10])"
   ]
  },
  {
   "cell_type": "code",
   "execution_count": null,
   "id": "d1b5674f-c4f6-4333-a5bd-d35ae9059c7b",
   "metadata": {},
   "outputs": [],
   "source": [
    "# plotting PDF and CDF\n",
    "#plt.plot(pdf, color=\"red\", label=\"PDF\")\n",
    "plt.plot(cdf, label=\"CDF\")\n",
    "plt.plot(pdf, label=\"PDF\")\n",
    "plt.xscale('log')\n",
    "plt.legend()\n",
    "plt.xlabel('Validator count')\n",
    "plt.ylabel('Probability')\n",
    "plt.title('PDF and CDF of sending probabilities')\n",
    "plt.savefig('figures/pdfVScdfSendingProbabilities.pdf')\n",
    "plt.show()"
   ]
  },
  {
   "cell_type": "code",
   "execution_count": null,
   "id": "2d94cc5a-ad14-44ee-8209-f7bae74cf06a",
   "metadata": {},
   "outputs": [],
   "source": [
    "G=nx.Graph()"
   ]
  },
  {
   "cell_type": "code",
   "execution_count": null,
   "id": "c9855425-5025-4df8-b3a3-b95657ad65f2",
   "metadata": {},
   "outputs": [],
   "source": [
    "file1 = open('figures/goerliTestnetTopology.txt', 'r')\n",
    "Lines = file1.readlines()\n",
    "  \n",
    "count = 0\n",
    "# Strips the newline character\n",
    "for line in Lines:\n",
    "    count += 1\n",
    "    myLine = line.strip()\n",
    "    firstNode = int(myLine[4:4+myLine[4:].find(' ')])\n",
    "    secondNode = int(myLine[4+myLine[4:].find(' ')+12:])\n",
    "    if firstNode not in G.nodes:\n",
    "        G.add_node(firstNode)\n",
    "    if secondNode not in G.nodes:\n",
    "        G.add_node(secondNode)\n",
    "    G.add_edge(firstNode, secondNode)"
   ]
  },
  {
   "cell_type": "code",
   "execution_count": null,
   "id": "164c8320-6e50-4b1f-a111-e369ad9fc4b7",
   "metadata": {},
   "outputs": [],
   "source": [
    "G.number_of_nodes(), G.number_of_edges()"
   ]
  },
  {
   "cell_type": "code",
   "execution_count": null,
   "id": "b86e0ce7-647f-43ff-8774-c4af8e7e6d41",
   "metadata": {},
   "outputs": [],
   "source": [
    "scores = list(dict(G.degree()).values())\n",
    "plt.hist(scores, bins=50)\n",
    "plt.title(\"Degree\")\n",
    "plt.show()"
   ]
  },
  {
   "cell_type": "code",
   "execution_count": null,
   "id": "4ba8f431-5f51-4fe8-88ae-bcef6dde4052",
   "metadata": {},
   "outputs": [],
   "source": [
    "scores = list(dict(nx.pagerank(G)).values())\n",
    "plt.hist(scores, bins=50)\n",
    "plt.title(\"PageRank\")\n",
    "plt.show()"
   ]
  },
  {
   "cell_type": "code",
   "execution_count": null,
   "id": "ffd8d718-749f-403f-9c58-263f103184cc",
   "metadata": {},
   "outputs": [],
   "source": [
    "nx.write_edgelist(G, \"figures/goerliTopology.edgelist\", data=False)"
   ]
  },
  {
   "cell_type": "code",
   "execution_count": null,
   "id": "d7382c07-33da-4139-bc21-32bdfc2b918a",
   "metadata": {},
   "outputs": [],
   "source": [
    "nx.write_gpickle(G, \"figures/goerliTopology.gpickle\")"
   ]
  }
 ],
 "metadata": {
  "kernelspec": {
   "display_name": "Python 3 (ipykernel)",
   "language": "python",
   "name": "python3"
  },
  "language_info": {
   "codemirror_mode": {
    "name": "ipython",
    "version": 3
   },
   "file_extension": ".py",
   "mimetype": "text/x-python",
   "name": "python",
   "nbconvert_exporter": "python",
   "pygments_lexer": "ipython3",
   "version": "3.8.15"
  }
 },
 "nbformat": 4,
 "nbformat_minor": 5
}
