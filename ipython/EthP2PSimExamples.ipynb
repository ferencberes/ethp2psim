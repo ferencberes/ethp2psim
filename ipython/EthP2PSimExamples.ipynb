{
 "cells": [
  {
   "cell_type": "markdown",
   "id": "d83c15a7-e21b-4b3e-950d-7f6172f5cbef",
   "metadata": {},
   "source": [
    "# Welcome to `ethp2psim`'s example notebook!\n",
    "\n",
    "`ethp2psim` is a network privacy simulator for the Ethereum peer-to-peer (p2p) network. It allows developers and researchers to implement, test, and evaluate the anonymity and privacy guarantees of various routing protocols (e.g., Dandelion(++)) and custom privacy-enhanced message routing protocols. Issues, PRs, and contributions are welcome! Let's make Ethereum private together!"
   ]
  },
  {
   "cell_type": "markdown",
   "id": "ed13d1fa-711b-4cd8-8b9d-f3e38dbf92a9",
   "metadata": {},
   "source": [
    "# 1. Quickstart\n",
    "\n",
    "Here, we show an example of how to simulate the [Dandelion protocol](https://arxiv.org/pdf/1701.04439.pdf) in the case of the most basic adversarial setting (predict a node to be the message source if malicious nodes first heard of this message from the given node)."
   ]
  },
  {
   "cell_type": "markdown",
   "id": "45472371-36cf-43a0-ab4d-52df1bd96a7b",
   "metadata": {},
   "source": [
    "For reproducability, **fix a random seed**:"
   ]
  },
  {
   "cell_type": "code",
   "execution_count": null,
   "id": "3b22f3ee-68de-431a-8358-45696cf17438",
   "metadata": {},
   "outputs": [],
   "source": [
    "seed = 42"
   ]
  },
  {
   "cell_type": "markdown",
   "id": "b3095de6-1951-42fa-9fe4-4b44af5d65bb",
   "metadata": {},
   "source": [
    "## i.) Initialize simulation components"
   ]
  },
  {
   "cell_type": "code",
   "execution_count": null,
   "id": "66f410bb-4953-4130-bd4b-9abb54908a72",
   "metadata": {},
   "outputs": [],
   "source": [
    "from ethp2psim.network import Network, EdgeWeightGenerator, NodeWeightGenerator"
   ]
  },
  {
   "cell_type": "markdown",
   "id": "16e641e5-f0f7-4f9a-871f-f525ca70dfe5",
   "metadata": {},
   "source": [
    "First, initialize re-usable **generators for edge and node weights**, e.g. \n",
    "   * channel latency is sampled uniformly at random\n",
    "   * nodes have weights proportional to their staked Ether amount"
   ]
  },
  {
   "cell_type": "code",
   "execution_count": null,
   "id": "6e9f8b1b-742d-4bd4-8716-fcc1d3cbec45",
   "metadata": {},
   "outputs": [],
   "source": [
    "ew_gen = EdgeWeightGenerator(\"normal\", seed=seed)\n",
    "nw_gen = NodeWeightGenerator(\"stake\", seed=seed)"
   ]
  },
  {
   "cell_type": "markdown",
   "id": "90c9e5fb-09e9-4e72-ade1-df176acbb4a2",
   "metadata": {},
   "source": [
    "With these generators, let's create a random 20 regular graph with 100 nodes to be the **peer-to-peer (P2P) network** in this experiment:"
   ]
  },
  {
   "cell_type": "code",
   "execution_count": null,
   "id": "fb050951-ee65-4feb-ab81-99207aa33e7e",
   "metadata": {},
   "outputs": [],
   "source": [
    "net = Network(nw_gen, ew_gen, num_nodes=100, k=20, seed=seed)"
   ]
  },
  {
   "cell_type": "markdown",
   "id": "9186082f-16fe-4647-860f-efe4cdf82f41",
   "metadata": {},
   "source": [
    "Next, initialize the Dandelion **protocol** where \n",
    "   * A message is broadcasted with 40% probability in the stem (anonymity) phase, or it is further propagated on the line graph with 60% probability.  \n",
    "   * With the `broadcast_mode=\"sqrt\"` the message is only sent to a randomly selected square root of neighbors in the spreading phase."
   ]
  },
  {
   "cell_type": "code",
   "execution_count": null,
   "id": "fe64dbd9-364e-4102-a2de-f1bb789c2094",
   "metadata": {},
   "outputs": [],
   "source": [
    "from ethp2psim.protocols import DandelionProtocol\n",
    "\n",
    "dp = DandelionProtocol(net, 0.4, broadcast_mode=\"sqrt\", seed=seed)"
   ]
  },
  {
   "cell_type": "markdown",
   "id": "e9027d5e-d98a-4be2-867a-c5740f925148",
   "metadata": {},
   "source": [
    "You can easily visualize the line (anonymity) graph for the Dandelion protocol:"
   ]
  },
  {
   "cell_type": "code",
   "execution_count": null,
   "id": "974dcd50-781f-4b1c-a81a-39996e569c99",
   "metadata": {},
   "outputs": [],
   "source": [
    "import matplotlib.pyplot as plt\n",
    "import networkx as nx\n",
    "\n",
    "nx.draw(dp.anonymity_graph, node_size=20)"
   ]
  },
  {
   "cell_type": "markdown",
   "id": "15004e44-2be7-4618-8296-721798aaac83",
   "metadata": {},
   "source": [
    "Finally, initilaize a passive **adversary** against the Dandelion protocol that controls random 10% of all nodes."
   ]
  },
  {
   "cell_type": "code",
   "execution_count": null,
   "id": "f7815713-148f-42bb-aca6-608348326a9f",
   "metadata": {},
   "outputs": [],
   "source": [
    "from ethp2psim.adversary import DandelionAdversary\n",
    "\n",
    "adv = DandelionAdversary(dp, 0.1, active=False, seed=seed)"
   ]
  },
  {
   "cell_type": "markdown",
   "id": "d0791112-6994-47da-8362-1c64cb4d42b8",
   "metadata": {},
   "source": [
    "## ii.) Run simulation\n",
    "\n",
    "In this experiment, let's **simulate** 20 random messages for the same P2P network and adversary with the Dandelion protocol.\n",
    "\n",
    "First, initialize the simulator by setting the protocol, the adversary, the number of simulated messages, and how the message source nodes are sampled."
   ]
  },
  {
   "cell_type": "code",
   "execution_count": null,
   "id": "833cefc1-db2b-4438-b468-3108f392dd5f",
   "metadata": {},
   "outputs": [],
   "source": [
    "from ethp2psim.simulator import Simulator\n",
    "\n",
    "sim = Simulator(adv, num_msg=20, use_node_weights=True, verbose=False, seed=seed)"
   ]
  },
  {
   "cell_type": "markdown",
   "id": "e247eaf1-8ebc-4027-b172-4ad894557910",
   "metadata": {},
   "source": [
    "Due to the `use_node_weights=True` setting, source nodes for messages are randomly sampled with respect to their staked Ether amount in accordance with the formerly prepared `NodeWeightGenerator`."
   ]
  },
  {
   "cell_type": "markdown",
   "id": "c9c9c1dc-c4c7-4d8a-8426-2ea931ac792c",
   "metadata": {},
   "source": [
    "Next, **run the simulation**:"
   ]
  },
  {
   "cell_type": "code",
   "execution_count": null,
   "id": "bff7910e-e99f-4910-874d-578933155ecc",
   "metadata": {},
   "outputs": [],
   "source": [
    "%%time\n",
    "node_coverage_by_msg = sim.run()\n",
    "print(node_coverage_by_msg)"
   ]
  },
  {
   "cell_type": "markdown",
   "id": "a0c15a84-ab7f-4f69-a25d-f4e307d76cb7",
   "metadata": {},
   "source": [
    "## iii.) Evaluate the simulation\n",
    "\n",
    "**Evaluate** the performance of the adversary for the given simulation. Here, you can choose different estimators for adversary performance evaluation (e.g., \"first_sent\", \"first_reach\", \"dummy\"):"
   ]
  },
  {
   "cell_type": "code",
   "execution_count": null,
   "id": "c542ea69-dd77-45c3-a02d-95af781f588c",
   "metadata": {},
   "outputs": [],
   "source": [
    "from ethp2psim.simulator import Evaluator\n",
    "\n",
    "evaluator = Evaluator(sim, estimator=\"first_sent\")\n",
    "print(evaluator.get_report())"
   ]
  },
  {
   "cell_type": "markdown",
   "id": "bf3fadab-df82-4d67-90bf-06b62bef8ad7",
   "metadata": {},
   "source": [
    "The average results, calculated for the 20 random messages, show that\n",
    "\n",
    "- 20% of the message sources were correctly identified by the adversary (`hit_ratio`)\n",
    "- the original message source is identified at the third position on average from the ranked list of candidates (`inverse_rank=0.3527`)\n",
    "- almost all messages reach every node in the P2P network (`message_spread_ratio`)"
   ]
  },
  {
   "cell_type": "markdown",
   "id": "517dcc1c-b571-457a-a9ae-4f55e1d878ae",
   "metadata": {},
   "source": [
    "# 2. Compare different protocols\n",
    "\n",
    "In the next experiment, we compare the deanonymization performance of the adversary for two parameters:\n",
    "\n",
    "- Protocol used for message passing: we compare the simple \n",
    "- The ratio of adversarial nodes in the P2P network"
   ]
  },
  {
   "cell_type": "markdown",
   "id": "7690e76d-cbaa-4aa2-8b32-02d9d833b4c1",
   "metadata": {},
   "source": [
    "## i.) Implement and run the experiment\n",
    "\n",
    "First, we implement a function to measure the deanonymization performance of the adversary for different protocols."
   ]
  },
  {
   "cell_type": "code",
   "execution_count": null,
   "id": "23ab5165-ec04-4095-bb93-0ce5ecc24152",
   "metadata": {},
   "outputs": [],
   "source": [
    "from ethp2psim.protocols import (\n",
    "    BroadcastProtocol,\n",
    "    DandelionPlusPlusProtocol,\n",
    "    OnionRoutingProtocol,\n",
    ")\n",
    "from ethp2psim.adversary import Adversary, OnionRoutingAdversary\n",
    "import pandas as pd\n",
    "\n",
    "\n",
    "def run_single_experiment(adversary_ratio: float, seed: int):\n",
    "    # initialize P2P network topology\n",
    "    net = Network(NodeWeightGenerator(\"stake\"), EdgeWeightGenerator(\"normal\"), 100, 20)\n",
    "    # initialize protocols\n",
    "    protocols = [\n",
    "        BroadcastProtocol(net, broadcast_mode=\"sqrt\"),\n",
    "        DandelionProtocol(net, spreading_proba=0.5, broadcast_mode=\"sqrt\"),\n",
    "        DandelionProtocol(net, spreading_proba=0.25, broadcast_mode=\"sqrt\"),\n",
    "        DandelionPlusPlusProtocol(net, spreading_proba=0.5, broadcast_mode=\"sqrt\"),\n",
    "        DandelionPlusPlusProtocol(net, spreading_proba=0.25, broadcast_mode=\"sqrt\"),\n",
    "        OnionRoutingProtocol(net, num_relayers=3, broadcast_mode=\"sqrt\"),\n",
    "    ]\n",
    "    # use the same set of adversarial nodes for all protocols\n",
    "    num_adv_nodes = int(net.num_nodes * adversary_ratio)\n",
    "    adv_nodes = net.sample_random_nodes(num_adv_nodes, False)\n",
    "    single_run_results = []\n",
    "    # run simulaion for each protocol\n",
    "    for protocol in protocols:\n",
    "        # initialize adversary with pre-defined adversarial node set\n",
    "        if isinstance(protocol, DandelionProtocol):\n",
    "            adv = DandelionAdversary(protocol, adversaries=adv_nodes)\n",
    "        elif isinstance(protocol, OnionRoutingProtocol):\n",
    "            adv = OnionRoutingAdversary(protocol, adversaries=adv_nodes)\n",
    "        else:\n",
    "            adv = Adversary(protocol, adversaries=adv_nodes)\n",
    "        # by fixing the seed we simulate the same messages\n",
    "        sim = Simulator(adv, 20, seed=seed, verbose=False)\n",
    "        sim.run()\n",
    "        # collect results\n",
    "        evaluator = Evaluator(sim, estimator=\"first_sent\")\n",
    "        report = evaluator.get_report()\n",
    "        report[\"protocol\"] = str(protocol)\n",
    "        single_run_results.append(report)\n",
    "    # postprocessing results\n",
    "    results_df = pd.DataFrame(single_run_results)\n",
    "    results_df[\"adversary_ratio\"] = adversary_ratio\n",
    "    return results_df"
   ]
  },
  {
   "cell_type": "markdown",
   "id": "ac2ea21b-d3ef-4c9b-bc0c-e5a34e8ed8e2",
   "metadata": {},
   "source": [
    "**Run an experiment** with the following parameters:\n",
    "\n",
    "- The ratio of adversarial nodes: `[0.05, 0.1, 0.2]`\n",
    "- We use 20 independent samples to measure performance for each parameter setting"
   ]
  },
  {
   "cell_type": "code",
   "execution_count": null,
   "id": "c023b0ee-b2c9-4d2f-b5f0-fd0be6cb1099",
   "metadata": {},
   "outputs": [],
   "source": [
    "import numpy as np\n",
    "from tqdm.notebook import tqdm\n",
    "\n",
    "num_trials = 20\n",
    "results = []\n",
    "for adv_ratio in [0.05, 0.1, 0.2]:\n",
    "    results += [\n",
    "        run_single_experiment(adv_ratio, rnd_seed)\n",
    "        for rnd_seed in tqdm(np.random.randint(10**5, size=num_trials))\n",
    "    ]\n",
    "results_df = pd.concat(results, ignore_index=True)\n",
    "print(results_df.shape)"
   ]
  },
  {
   "cell_type": "markdown",
   "id": "9d701774-8926-44e8-913f-5a06660b87b9",
   "metadata": {},
   "source": [
    "Results are stored in a `pandas.DataFrame` with the related experimental parameters"
   ]
  },
  {
   "cell_type": "code",
   "execution_count": null,
   "id": "c194a19a-4c41-4f72-9dd1-696c15604856",
   "metadata": {},
   "outputs": [],
   "source": [
    "results_df.head()"
   ]
  },
  {
   "cell_type": "markdown",
   "id": "579b8c52-8ca0-4abb-862e-c59d753b6475",
   "metadata": {},
   "source": [
    "## ii.) Visualization\n",
    "\n",
    "In visualizing the results, we differentiate between metrics considering available information on message sources. In other words, these are metrics that rely on ground truth information."
   ]
  },
  {
   "cell_type": "markdown",
   "id": "ae406c92-6b8b-4985-ba2a-af156ff19669",
   "metadata": {},
   "source": [
    "### Metrics relying on ground truth information (`hit_ratio`, `inverse_rank`, `ndcg`)"
   ]
  },
  {
   "cell_type": "markdown",
   "id": "e4a27b69-648c-49fc-8dd1-4619c0aa1f6e",
   "metadata": {},
   "source": [
    "Before visualization, we must restructure our dataframe by melting multiple performance metrics (e.g., `hit_ratio`, `inverse_rank`, etc.) into a single column (`metric`)."
   ]
  },
  {
   "cell_type": "code",
   "execution_count": null,
   "id": "179735c3-8e15-42a4-b548-caeece2a8b95",
   "metadata": {},
   "outputs": [],
   "source": [
    "visu_df = results_df.melt(\n",
    "    id_vars=[\"protocol\", \"estimator\", \"adversary_ratio\"],\n",
    "    value_vars=[\"hit_ratio\", \"inverse_rank\", \"ndcg\"],\n",
    "    var_name=\"metric\",\n",
    ")"
   ]
  },
  {
   "cell_type": "code",
   "execution_count": null,
   "id": "c42cc3a1-4755-4bbc-bac2-79fde7c90817",
   "metadata": {},
   "outputs": [],
   "source": [
    "visu_df[\"protocol\"].value_counts()"
   ]
  },
  {
   "cell_type": "markdown",
   "id": "fc4c00a8-c7c7-4c54-aa67-c39a1ad1c87a",
   "metadata": {},
   "source": [
    "Finally, visualize different deanonymization performance metrics for various protocols and adversarial node ratios."
   ]
  },
  {
   "cell_type": "code",
   "execution_count": null,
   "id": "b0bdccfd-6f09-4c82-a7ef-51cbcd3ada73",
   "metadata": {},
   "outputs": [],
   "source": [
    "import plotly.express as px\n",
    "\n",
    "fig = px.box(\n",
    "    visu_df,\n",
    "    x=\"adversary_ratio\",\n",
    "    y=\"value\",\n",
    "    color=\"protocol\",\n",
    "    facet_col=\"metric\",\n",
    "    width=1400,\n",
    "    height=500,\n",
    ")\n",
    "fig.update_layout(\n",
    "    legend=dict(orientation=\"h\", yanchor=\"bottom\", y=1.02, xanchor=\"left\", x=0.0)\n",
    ")\n",
    "fig.show()"
   ]
  },
  {
   "cell_type": "markdown",
   "id": "b5cd2e9b-af07-4310-8bd0-316fcd10f01b",
   "metadata": {},
   "source": [
    "Naturally, the adversary performs better when it controls more nodes in the P2P network. It is also clear that Dandelion(++) can significantly reduce the adversary's power."
   ]
  },
  {
   "cell_type": "markdown",
   "id": "4cce8d44-cf57-4ebe-821f-4b816c4217d1",
   "metadata": {},
   "source": [
    "### Metrics without ground truth information"
   ]
  },
  {
   "cell_type": "markdown",
   "id": "841fd94d-cb40-4b91-9f3f-b0af04d6c0c9",
   "metadata": {},
   "source": [
    "Finally, we show the average entropy calculated from adversarial predictions:\n",
    "- The simple `BroadcasProtocol` assigns probability 1.0 to the predicted message source while zero to every other node. Thus, the entropy is zero.\n",
    "- For Dandelion(++), the entropy increases with the `spreading_proba` parameter, as expected.\n",
    "- It is also clear that there is a higher uncertainty in the case of Dandelion++ compared to Dandelion due to the more complex anonymity graph in the protocol.\n",
    "We note that for now the entropy of the `OnionRoutingAdversary` is not well defined that it is removed from the next figure. We will work on this issue in the future."
   ]
  },
  {
   "cell_type": "code",
   "execution_count": null,
   "id": "8bca97e3-85f9-4075-a57c-422f86fcb214",
   "metadata": {},
   "outputs": [],
   "source": [
    "fig = px.box(\n",
    "    results_df[~results_df[\"protocol\"].apply(lambda x: \"OnionRouting\" in x)],\n",
    "    x=\"adversary_ratio\",\n",
    "    y=\"entropy\",\n",
    "    color=\"protocol\",\n",
    ")\n",
    "fig.show()"
   ]
  },
  {
   "cell_type": "markdown",
   "id": "a5df5954-fb49-4b86-8dac-2ef8d08ed8f5",
   "metadata": {},
   "source": [
    "# 3. What's next?\n",
    "\n",
    "We hope you liked playing with this notebook. Our main goal was to showcase the underlying potential of `ethp2psim` in developing and comparing privacy-enhanced message routing protocols. At the same time, keep it simple in the process. If you are looking for more complex examples, check out our [results](https://ethp2psim.readthedocs.io/en/latest/experiments.html) for larger P2P networks."
   ]
  }
 ],
 "metadata": {
  "kernelspec": {
   "display_name": "Python 3 (ipykernel)",
   "language": "python",
   "name": "python3"
  },
  "language_info": {
   "codemirror_mode": {
    "name": "ipython",
    "version": 3
   },
   "file_extension": ".py",
   "mimetype": "text/x-python",
   "name": "python",
   "nbconvert_exporter": "python",
   "pygments_lexer": "ipython3",
   "version": "3.8.15"
  }
 },
 "nbformat": 4,
 "nbformat_minor": 5
}
