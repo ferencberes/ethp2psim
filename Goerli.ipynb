{
 "cells": [
  {
   "cell_type": "code",
   "execution_count": null,
   "id": "165e944e-c63c-491e-920c-66979d4666fe",
   "metadata": {},
   "outputs": [],
   "source": [
    "import networkx as nx\n",
    "import matplotlib.pyplot as plt\n",
    "import seaborn as sns\n",
    "import numpy as np"
   ]
  },
  {
   "cell_type": "code",
   "execution_count": null,
   "id": "a8f771e6-18a2-4591-81a4-3467dd11e738",
   "metadata": {},
   "outputs": [],
   "source": [
    "import sys\n",
    "sys.path.insert(0, \"python\")\n",
    "from network import *\n",
    "from protocols import *\n",
    "from adversary import *\n",
    "from simulator import *"
   ]
  },
  {
   "cell_type": "code",
   "execution_count": null,
   "id": "e5a1930a-43e7-45cb-891e-d6c893a579c3",
   "metadata": {},
   "outputs": [],
   "source": [
    "def shorten_protocol_name(x: str):\n",
    "    val = x.replace(\"Protocol\",\"\").replace(\"spreading_proba\",\"p\")\n",
    "    val = val.split(\"broadcast\")[0][:-1].replace(\"(\", \": \")\n",
    "    if val[-1] == \",\":\n",
    "        val = val[:-1]\n",
    "    return val"
   ]
  },
  {
   "cell_type": "code",
   "execution_count": null,
   "id": "73b2f9a3-9208-4737-80bf-a39133f54600",
   "metadata": {},
   "outputs": [],
   "source": [
    "nw_generator = NodeWeightGenerator(\"random\")\n",
    "ew_generator = EdgeWeightGenerator(\"normal\")"
   ]
  },
  {
   "cell_type": "markdown",
   "id": "487965c1-4a45-4e89-b028-0f74a80389c1",
   "metadata": {},
   "source": [
    "# Dandelion example"
   ]
  },
  {
   "cell_type": "code",
   "execution_count": null,
   "id": "c1e9e290-9a6a-4060-b2bd-497a1d7add70",
   "metadata": {},
   "outputs": [],
   "source": [
    "from data import GoerliTestnet\n",
    "goerli = GoerliTestnet()\n",
    "betweenness_scores = nx.betweenness_centrality(goerli.graph)"
   ]
  },
  {
   "cell_type": "code",
   "execution_count": null,
   "id": "1a16a9d4-0766-4913-98fa-8921ada4d2aa",
   "metadata": {},
   "outputs": [],
   "source": [
    "net = Network(nw_generator, ew_generator, graph=goerli.graph)"
   ]
  },
  {
   "cell_type": "code",
   "execution_count": null,
   "id": "cf0782db-a1fd-47f6-9815-b28e03a97eee",
   "metadata": {},
   "outputs": [],
   "source": [
    "net.num_nodes"
   ]
  },
  {
   "cell_type": "code",
   "execution_count": null,
   "id": "6eee4f4e-c8f2-4537-b646-340cd4748833",
   "metadata": {},
   "outputs": [],
   "source": [
    "dp = DandelionProtocol(net, 0.5)"
   ]
  },
  {
   "cell_type": "markdown",
   "id": "4f1e071e-58ff-42d9-b26d-99a7c442022d",
   "metadata": {},
   "source": [
    "#### Running time\n",
    "- For goerli (1K nodes): 5 sec\n",
    "- Random regular 100N 10REG: 100 ms\n",
    "- Random regular 1000N 20REG: 4 sec\n",
    "\n",
    "#### Spread ratio\n",
    "- Goerli: around 0.8\n",
    "- Random regular 100N 10REG: 1.0\n",
    "- Random regular 1000N 20REG: 1.0 sec"
   ]
  },
  {
   "cell_type": "code",
   "execution_count": null,
   "id": "32455f09-f154-411d-b4b5-84d48cbad05f",
   "metadata": {},
   "outputs": [],
   "source": [
    "%%time\n",
    "adv = Adversary(net, 0.1)\n",
    "sim = Simulator(dp, adv, 30, verbose=False)\n",
    "sim.run()"
   ]
  },
  {
   "cell_type": "code",
   "execution_count": null,
   "id": "dd906658-ee54-451a-92e9-13de2bf1163e",
   "metadata": {},
   "outputs": [],
   "source": [
    "for estimator in [\"first_reach\",\"first_sent\",\"dummy\"]:\n",
    "    print(Evaluator(sim, estimator).get_report())"
   ]
  },
  {
   "cell_type": "markdown",
   "id": "d4346794-dc11-4248-8fc1-eae379cc9f55",
   "metadata": {},
   "source": [
    "# Dandelion example with adversaries as central nodes"
   ]
  },
  {
   "cell_type": "code",
   "execution_count": null,
   "id": "bc00b00d-edd5-463f-b195-3e4649d7c39c",
   "metadata": {},
   "outputs": [],
   "source": [
    "plt.hist(list(dict(betweenness_scores).values()), bins=50)\n",
    "plt.yscale(\"log\")\n",
    "plt.show()"
   ]
  },
  {
   "cell_type": "code",
   "execution_count": null,
   "id": "d88a2fd7-eb6c-4c69-9185-af8865546d6b",
   "metadata": {},
   "outputs": [],
   "source": [
    "net_central = Network(NodeWeightGenerator(\"degree\"), ew_generator, graph=goerli.graph)"
   ]
  },
  {
   "cell_type": "code",
   "execution_count": null,
   "id": "40fcc836-d174-4f9a-b0d6-2913930d857d",
   "metadata": {},
   "outputs": [],
   "source": [
    "net_central.num_nodes"
   ]
  },
  {
   "cell_type": "code",
   "execution_count": null,
   "id": "f689224a-c1bc-4a0a-a301-f37411eccebd",
   "metadata": {},
   "outputs": [],
   "source": [
    "dp_central = DandelionProtocol(net_central, 0.5)"
   ]
  },
  {
   "cell_type": "code",
   "execution_count": null,
   "id": "588dcbaa-18cb-4b6c-8d54-b854924210bd",
   "metadata": {},
   "outputs": [],
   "source": [
    "%%time\n",
    "adv_central = Adversary(net, 0.1, use_node_weights=True)\n",
    "sim_central = Simulator(dp_central, adv_central, 30, verbose=False)\n",
    "sim_central.run()"
   ]
  },
  {
   "cell_type": "markdown",
   "id": "6144dd2f-7fd3-442a-8c4a-f261990a10c3",
   "metadata": {},
   "source": [
    "### What is this error for \"first_sent\" with relevant node weights?"
   ]
  },
  {
   "cell_type": "code",
   "execution_count": null,
   "id": "05e80865-a59d-45c7-81c7-a9a5a13c0f0e",
   "metadata": {},
   "outputs": [],
   "source": [
    "for estimator in [\"first_reach\",\"first_sent\",\"dummy\"]:\n",
    "    print(Evaluator(sim_central, estimator).get_report())"
   ]
  }
 ],
 "metadata": {
  "kernelspec": {
   "display_name": "Python 3 (ipykernel)",
   "language": "python",
   "name": "python3"
  },
  "language_info": {
   "codemirror_mode": {
    "name": "ipython",
    "version": 3
   },
   "file_extension": ".py",
   "mimetype": "text/x-python",
   "name": "python",
   "nbconvert_exporter": "python",
   "pygments_lexer": "ipython3",
   "version": "3.8.15"
  }
 },
 "nbformat": 4,
 "nbformat_minor": 5
}
