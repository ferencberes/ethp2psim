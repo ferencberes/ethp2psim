{
 "cells": [
  {
   "cell_type": "code",
   "execution_count": 1,
   "id": "165e944e-c63c-491e-920c-66979d4666fe",
   "metadata": {},
   "outputs": [],
   "source": [
    "import networkx as nx\n",
    "import matplotlib.pyplot as plt\n",
    "import seaborn as sns\n",
    "import numpy as np"
   ]
  },
  {
   "cell_type": "code",
   "execution_count": 2,
   "id": "a8f771e6-18a2-4591-81a4-3467dd11e738",
   "metadata": {},
   "outputs": [],
   "source": [
    "import sys\n",
    "sys.path.insert(0, \"python\")\n",
    "from network import *\n",
    "from protocols import *\n",
    "from adversary import *\n",
    "from simulator import *"
   ]
  },
  {
   "cell_type": "code",
   "execution_count": 3,
   "id": "e5a1930a-43e7-45cb-891e-d6c893a579c3",
   "metadata": {},
   "outputs": [],
   "source": [
    "def shorten_protocol_name(x: str):\n",
    "    val = x.replace(\"Protocol\",\"\").replace(\"spreading_proba\",\"p\")\n",
    "    val = val.split(\"broadcast\")[0][:-1].replace(\"(\", \": \")\n",
    "    if val[-1] == \",\":\n",
    "        val = val[:-1]\n",
    "    return val"
   ]
  },
  {
   "cell_type": "code",
   "execution_count": 4,
   "id": "73b2f9a3-9208-4737-80bf-a39133f54600",
   "metadata": {},
   "outputs": [],
   "source": [
    "nw_generator = NodeWeightGenerator(\"random\")\n",
    "ew_generator = EdgeWeightGenerator(\"normal\")"
   ]
  },
  {
   "cell_type": "markdown",
   "id": "487965c1-4a45-4e89-b028-0f74a80389c1",
   "metadata": {},
   "source": [
    "# Dandelion example"
   ]
  },
  {
   "cell_type": "code",
   "execution_count": 5,
   "id": "c1e9e290-9a6a-4060-b2bd-497a1d7add70",
   "metadata": {},
   "outputs": [],
   "source": [
    "from data import GoerliTestnet\n",
    "goerli = GoerliTestnet()\n",
    "betweenness_scores = nx.betweenness_centrality(goerli.graph)"
   ]
  },
  {
   "cell_type": "code",
   "execution_count": 6,
   "id": "1a16a9d4-0766-4913-98fa-8921ada4d2aa",
   "metadata": {},
   "outputs": [],
   "source": [
    "net = Network(nw_generator, ew_generator, graph=goerli.graph)"
   ]
  },
  {
   "cell_type": "code",
   "execution_count": 7,
   "id": "cf0782db-a1fd-47f6-9815-b28e03a97eee",
   "metadata": {},
   "outputs": [
    {
     "data": {
      "text/plain": [
       "1355"
      ]
     },
     "execution_count": 7,
     "metadata": {},
     "output_type": "execute_result"
    }
   ],
   "source": [
    "net.num_nodes"
   ]
  },
  {
   "cell_type": "code",
   "execution_count": 8,
   "id": "6eee4f4e-c8f2-4537-b646-340cd4748833",
   "metadata": {},
   "outputs": [],
   "source": [
    "dp = DandelionProtocol(net, 0.5)"
   ]
  },
  {
   "cell_type": "markdown",
   "id": "4f1e071e-58ff-42d9-b26d-99a7c442022d",
   "metadata": {},
   "source": [
    "#### Running time\n",
    "- For goerli (1K nodes): 5 sec\n",
    "- Random regular 100N 10REG: 100 ms\n",
    "- Random regular 1000N 20REG: 4 sec\n",
    "\n",
    "#### Spread ratio\n",
    "- Goerli: around 0.8\n",
    "- Random regular 100N 10REG: 1.0\n",
    "- Random regular 1000N 20REG: 1.0 sec"
   ]
  },
  {
   "cell_type": "code",
   "execution_count": 9,
   "id": "32455f09-f154-411d-b4b5-84d48cbad05f",
   "metadata": {},
   "outputs": [
    {
     "name": "stdout",
     "output_type": "stream",
     "text": [
      "CPU times: user 14.8 s, sys: 95.3 ms, total: 14.9 s\n",
      "Wall time: 14.9 s\n"
     ]
    },
    {
     "data": {
      "text/plain": [
       "[0.862730627306273,\n",
       " 0.7830258302583026,\n",
       " 0.8560885608856088,\n",
       " 0.8103321033210332,\n",
       " 0.8273062730627306,\n",
       " 0.803690036900369,\n",
       " 0.8634686346863468,\n",
       " 0.7911439114391144,\n",
       " 0.8206642066420664,\n",
       " 0.8066420664206642,\n",
       " 0.7977859778597786,\n",
       " 0.8376383763837638,\n",
       " 0.8678966789667897,\n",
       " 0.8516605166051661,\n",
       " 0.8265682656826568,\n",
       " 0.8391143911439114,\n",
       " 0.7763837638376384,\n",
       " 0.829520295202952,\n",
       " 0.8095940959409594,\n",
       " 0.8664206642066421,\n",
       " 0.8066420664206642,\n",
       " 0.7985239852398524,\n",
       " 0.8376383763837638,\n",
       " 0.792619926199262,\n",
       " 0.8435424354243543,\n",
       " 0.8273062730627306,\n",
       " 0.811070110701107,\n",
       " 0.7800738007380074,\n",
       " 0.7970479704797048,\n",
       " 0.8236162361623616]"
      ]
     },
     "execution_count": 9,
     "metadata": {},
     "output_type": "execute_result"
    }
   ],
   "source": [
    "%%time\n",
    "adv = Adversary(net, 0.1)\n",
    "sim = Simulator(dp, adv, 30, verbose=False)\n",
    "sim.run()"
   ]
  },
  {
   "cell_type": "code",
   "execution_count": 10,
   "id": "dd906658-ee54-451a-92e9-13de2bf1163e",
   "metadata": {},
   "outputs": [
    {
     "name": "stdout",
     "output_type": "stream",
     "text": [
      "{'estimator': 'first_reach', 'hit_ratio': 0.26666666666666666, 'inverse_rank': 0.2803391827257895, 'entropy': 0.0, 'ndcg': 0.3635986872613817, 'message_spread_ratio': 0.8215252152521526}\n",
      "{'estimator': 'first_sent', 'hit_ratio': 0.5, 'inverse_rank': 0.5131138675440658, 'entropy': 0.0, 'ndcg': 0.570399369089474, 'message_spread_ratio': 0.8215252152521526}\n",
      "{'estimator': 'dummy', 'hit_ratio': 0.0, 'inverse_rank': 0.020348743557168758, 'entropy': 7.106606137727305, 'ndcg': 0.13387510956388834, 'message_spread_ratio': 0.8215252152521526}\n"
     ]
    }
   ],
   "source": [
    "for estimator in [\"first_reach\",\"first_sent\",\"dummy\"]:\n",
    "    print(Evaluator(sim, estimator).get_report())"
   ]
  },
  {
   "cell_type": "markdown",
   "id": "d4346794-dc11-4248-8fc1-eae379cc9f55",
   "metadata": {},
   "source": [
    "# Dandelion example with adversaries as central nodes"
   ]
  },
  {
   "cell_type": "code",
   "execution_count": 11,
   "id": "bc00b00d-edd5-463f-b195-3e4649d7c39c",
   "metadata": {},
   "outputs": [
    {
     "data": {
      "image/png": "[encoded data removed]",
      "text/plain": [
       "<Figure size 640x480 with 1 Axes>"
      ]
     },
     "metadata": {},
     "output_type": "display_data"
    }
   ],
   "source": [
    "plt.hist(list(dict(betweenness_scores).values()), bins=50)\n",
    "plt.yscale(\"log\")\n",
    "plt.show()"
   ]
  },
  {
   "cell_type": "code",
   "execution_count": 22,
   "id": "d88a2fd7-eb6c-4c69-9185-af8865546d6b",
   "metadata": {},
   "outputs": [],
   "source": [
    "net_central = Network(NodeWeightGenerator(\"degree\"), ew_generator, graph=goerli.graph)"
   ]
  },
  {
   "cell_type": "code",
   "execution_count": 23,
   "id": "40fcc836-d174-4f9a-b0d6-2913930d857d",
   "metadata": {},
   "outputs": [
    {
     "data": {
      "text/plain": [
       "1355"
      ]
     },
     "execution_count": 23,
     "metadata": {},
     "output_type": "execute_result"
    }
   ],
   "source": [
    "net_central.num_nodes"
   ]
  },
  {
   "cell_type": "code",
   "execution_count": 24,
   "id": "f689224a-c1bc-4a0a-a301-f37411eccebd",
   "metadata": {},
   "outputs": [],
   "source": [
    "dp_central = DandelionProtocol(net_central, 0.5)"
   ]
  },
  {
   "cell_type": "code",
   "execution_count": 25,
   "id": "588dcbaa-18cb-4b6c-8d54-b854924210bd",
   "metadata": {},
   "outputs": [
    {
     "name": "stdout",
     "output_type": "stream",
     "text": [
      "CPU times: user 19.2 s, sys: 156 ms, total: 19.3 s\n",
      "Wall time: 19.3 s\n"
     ]
    },
    {
     "data": {
      "text/plain": [
       "[0.8265682656826568,\n",
       " 0.822140221402214,\n",
       " 0.796309963099631,\n",
       " 0.8236162361623616,\n",
       " 0.8346863468634687,\n",
       " 0.7313653136531365,\n",
       " 0.8501845018450185,\n",
       " 0.788929889298893,\n",
       " 0.8413284132841329,\n",
       " 0.8044280442804428,\n",
       " 0.8309963099630996,\n",
       " 0.803690036900369,\n",
       " 0.7940959409594096,\n",
       " 0.8103321033210332,\n",
       " 0.8376383763837638,\n",
       " 0.8324723247232473,\n",
       " 0.803690036900369,\n",
       " 0.8287822878228782,\n",
       " 0.829520295202952,\n",
       " 0.8346863468634687,\n",
       " 0.8206642066420664,\n",
       " 0.8413284132841329,\n",
       " 0.8287822878228782,\n",
       " 0.7328413284132841,\n",
       " 0.811070110701107,\n",
       " 0.818450184501845,\n",
       " 0.8531365313653136,\n",
       " 0.7785977859778598,\n",
       " 0.8560885608856088,\n",
       " 0.8132841328413284]"
      ]
     },
     "execution_count": 25,
     "metadata": {},
     "output_type": "execute_result"
    }
   ],
   "source": [
    "%%time\n",
    "adv_central = Adversary(net, 0.1, use_node_weights=True)\n",
    "sim_central = Simulator(dp_central, adv_central, 30, verbose=False)\n",
    "sim_central.run()"
   ]
  },
  {
   "cell_type": "markdown",
   "id": "6144dd2f-7fd3-442a-8c4a-f261990a10c3",
   "metadata": {},
   "source": [
    "### What is this error for \"first_sent\" with relevant node weights?"
   ]
  },
  {
   "cell_type": "code",
   "execution_count": 26,
   "id": "05e80865-a59d-45c7-81c7-a9a5a13c0f0e",
   "metadata": {},
   "outputs": [
    {
     "name": "stdout",
     "output_type": "stream",
     "text": [
      "{'estimator': 'first_reach', 'hit_ratio': 0.26666666666666666, 'inverse_rank': 0.2758567072637053, 'entropy': 0.0, 'ndcg': 0.3628971823728506, 'message_spread_ratio': 0.815990159901599}\n"
     ]
    },
    {
     "ename": "TypeError",
     "evalue": "unsupported operand type(s) for -: 'float' and 'NoneType'",
     "output_type": "error",
     "traceback": [
      "\u001b[0;31m---------------------------------------------------------------------------\u001b[0m",
      "\u001b[0;31mTypeError\u001b[0m                                 Traceback (most recent call last)",
      "Cell \u001b[0;32mIn[26], line 2\u001b[0m\n\u001b[1;32m      1\u001b[0m \u001b[38;5;28;01mfor\u001b[39;00m estimator \u001b[38;5;129;01min\u001b[39;00m [\u001b[38;5;124m\"\u001b[39m\u001b[38;5;124mfirst_reach\u001b[39m\u001b[38;5;124m\"\u001b[39m,\u001b[38;5;124m\"\u001b[39m\u001b[38;5;124mfirst_sent\u001b[39m\u001b[38;5;124m\"\u001b[39m,\u001b[38;5;124m\"\u001b[39m\u001b[38;5;124mdummy\u001b[39m\u001b[38;5;124m\"\u001b[39m]:\n\u001b[0;32m----> 2\u001b[0m     \u001b[38;5;28mprint\u001b[39m(\u001b[43mEvaluator\u001b[49m\u001b[43m(\u001b[49m\u001b[43msim_central\u001b[49m\u001b[43m,\u001b[49m\u001b[43m \u001b[49m\u001b[43mestimator\u001b[49m\u001b[43m)\u001b[49m\u001b[38;5;241m.\u001b[39mget_report())\n",
      "File \u001b[0;32m~/sztaki/git/ethsim/python/simulator.py:151\u001b[0m, in \u001b[0;36mEvaluator.__init__\u001b[0;34m(self, simulator, estimator)\u001b[0m\n\u001b[1;32m    149\u001b[0m \u001b[38;5;28mself\u001b[39m\u001b[38;5;241m.\u001b[39msimulator \u001b[38;5;241m=\u001b[39m simulator\n\u001b[1;32m    150\u001b[0m \u001b[38;5;28mself\u001b[39m\u001b[38;5;241m.\u001b[39mestimator \u001b[38;5;241m=\u001b[39m estimator\n\u001b[0;32m--> 151\u001b[0m \u001b[38;5;28mself\u001b[39m\u001b[38;5;241m.\u001b[39mprobas \u001b[38;5;241m=\u001b[39m \u001b[43msimulator\u001b[49m\u001b[38;5;241;43m.\u001b[39;49m\u001b[43madversary\u001b[49m\u001b[38;5;241;43m.\u001b[39;49m\u001b[43mpredict_msg_source\u001b[49m\u001b[43m(\u001b[49m\u001b[43mestimator\u001b[49m\u001b[38;5;241;43m=\u001b[39;49m\u001b[38;5;28;43mself\u001b[39;49m\u001b[38;5;241;43m.\u001b[39;49m\u001b[43mestimator\u001b[49m\u001b[43m)\u001b[49m\n\u001b[1;32m    152\u001b[0m \u001b[38;5;66;03m# method='first' is used to properly resolve ties for calculating exact hits\u001b[39;00m\n\u001b[1;32m    153\u001b[0m \u001b[38;5;28mself\u001b[39m\u001b[38;5;241m.\u001b[39mproba_ranks \u001b[38;5;241m=\u001b[39m \u001b[38;5;28mself\u001b[39m\u001b[38;5;241m.\u001b[39mprobas\u001b[38;5;241m.\u001b[39mrank(axis\u001b[38;5;241m=\u001b[39m\u001b[38;5;241m1\u001b[39m, ascending\u001b[38;5;241m=\u001b[39m\u001b[38;5;28;01mFalse\u001b[39;00m, method\u001b[38;5;241m=\u001b[39m\u001b[38;5;124m\"\u001b[39m\u001b[38;5;124mfirst\u001b[39m\u001b[38;5;124m\"\u001b[39m)\n",
      "File \u001b[0;32m~/sztaki/git/ethsim/python/adversary.py:179\u001b[0m, in \u001b[0;36mAdversary.predict_msg_source\u001b[0;34m(self, estimator)\u001b[0m\n\u001b[1;32m    165\u001b[0m \u001b[38;5;124;03m\"\"\"\u001b[39;00m\n\u001b[1;32m    166\u001b[0m \u001b[38;5;124;03mPredict source nodes for each message\u001b[39;00m\n\u001b[1;32m    167\u001b[0m \n\u001b[0;32m   (...)\u001b[0m\n\u001b[1;32m    176\u001b[0m \u001b[38;5;124;03m    * dummy: the probability is divided equally between non-adversary nodes.\u001b[39;00m\n\u001b[1;32m    177\u001b[0m \u001b[38;5;124;03m\"\"\"\u001b[39;00m\n\u001b[1;32m    178\u001b[0m \u001b[38;5;28;01mif\u001b[39;00m estimator \u001b[38;5;129;01min\u001b[39;00m [\u001b[38;5;124m\"\u001b[39m\u001b[38;5;124mfirst_reach\u001b[39m\u001b[38;5;124m\"\u001b[39m, \u001b[38;5;124m\"\u001b[39m\u001b[38;5;124mfirst_sent\u001b[39m\u001b[38;5;124m\"\u001b[39m]:\n\u001b[0;32m--> 179\u001b[0m     _, _, received_from, predictions \u001b[38;5;241m=\u001b[39m \u001b[38;5;28;43mself\u001b[39;49m\u001b[38;5;241;43m.\u001b[39;49m\u001b[43m_find_first_contact\u001b[49m\u001b[43m(\u001b[49m\u001b[43mestimator\u001b[49m\u001b[43m)\u001b[49m\n\u001b[1;32m    180\u001b[0m     \u001b[38;5;28;01mfor\u001b[39;00m mid, node \u001b[38;5;129;01min\u001b[39;00m received_from\u001b[38;5;241m.\u001b[39mitems():\n\u001b[1;32m    181\u001b[0m         predictions\u001b[38;5;241m.\u001b[39mat[mid, node] \u001b[38;5;241m=\u001b[39m \u001b[38;5;241m1.0\u001b[39m\n",
      "File \u001b[0;32m~/sztaki/git/ethsim/python/adversary.py:111\u001b[0m, in \u001b[0;36mAdversary._find_first_contact\u001b[0;34m(self, estimator)\u001b[0m\n\u001b[1;32m    109\u001b[0m receiver \u001b[38;5;241m=\u001b[39m ee\u001b[38;5;241m.\u001b[39mreceiver\n\u001b[1;32m    110\u001b[0m \u001b[38;5;28;01mif\u001b[39;00m estimator \u001b[38;5;241m==\u001b[39m \u001b[38;5;124m\"\u001b[39m\u001b[38;5;124mfirst_sent\u001b[39m\u001b[38;5;124m\"\u001b[39m:\n\u001b[0;32m--> 111\u001b[0m     timestamp \u001b[38;5;241m=\u001b[39m \u001b[43mee\u001b[49m\u001b[38;5;241;43m.\u001b[39;49m\u001b[43mprotocol_event\u001b[49m\u001b[38;5;241;43m.\u001b[39;49m\u001b[43mdelay\u001b[49m\u001b[43m \u001b[49m\u001b[38;5;241;43m-\u001b[39;49m\u001b[43m \u001b[49m\u001b[38;5;28;43mself\u001b[39;49m\u001b[38;5;241;43m.\u001b[39;49m\u001b[43mnetwork\u001b[49m\u001b[38;5;241;43m.\u001b[39;49m\u001b[43mget_edge_weight\u001b[49m\u001b[43m(\u001b[49m\n\u001b[1;32m    112\u001b[0m \u001b[43m        \u001b[49m\u001b[43msender\u001b[49m\u001b[43m,\u001b[49m\u001b[43m \u001b[49m\u001b[43mreceiver\u001b[49m\n\u001b[1;32m    113\u001b[0m \u001b[43m    \u001b[49m\u001b[43m)\u001b[49m\n\u001b[1;32m    114\u001b[0m \u001b[38;5;28;01melse\u001b[39;00m:\n\u001b[1;32m    115\u001b[0m     timestamp \u001b[38;5;241m=\u001b[39m ee\u001b[38;5;241m.\u001b[39mprotocol_event\u001b[38;5;241m.\u001b[39mdelay\n",
      "\u001b[0;31mTypeError\u001b[0m: unsupported operand type(s) for -: 'float' and 'NoneType'"
     ]
    }
   ],
   "source": [
    "for estimator in [\"first_reach\",\"first_sent\",\"dummy\"]:\n",
    "    print(Evaluator(sim_central, estimator).get_report())"
   ]
  }
 ],
 "metadata": {
  "kernelspec": {
   "display_name": "Python 3 (ipykernel)",
   "language": "python",
   "name": "python3"
  },
  "language_info": {
   "codemirror_mode": {
    "name": "ipython",
    "version": 3
   },
   "file_extension": ".py",
   "mimetype": "text/x-python",
   "name": "python",
   "nbconvert_exporter": "python",
   "pygments_lexer": "ipython3",
   "version": "3.8.15"
  }
 },
 "nbformat": 4,
 "nbformat_minor": 5
}
