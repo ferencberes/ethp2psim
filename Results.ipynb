{
 "cells": [
  {
   "cell_type": "code",
   "execution_count": null,
   "id": "7010b857-43d5-4392-abcb-ee77c3db7936",
   "metadata": {},
   "outputs": [],
   "source": [
    "import pandas as pd\n",
    "import matplotlib.pyplot as plt\n",
    "import seaborn as sns\n",
    "import numpy as np"
   ]
  },
  {
   "cell_type": "code",
   "execution_count": null,
   "id": "b39afa5a-f797-4de4-b528-17d502d43b60",
   "metadata": {},
   "outputs": [],
   "source": [
    "import plotly.express as px\n",
    "from plotly.offline import init_notebook_mode\n",
    "\n",
    "init_notebook_mode(connected=False)"
   ]
  },
  {
   "cell_type": "code",
   "execution_count": null,
   "id": "68424718-24ad-4f7b-882a-8eb538a38754",
   "metadata": {},
   "outputs": [],
   "source": [
    "import sys\n",
    "\n",
    "sys.path.insert(0, \"python\")\n",
    "from experiments import extract_config_columns, prepare_results_for_visualization"
   ]
  },
  {
   "cell_type": "code",
   "execution_count": null,
   "id": "db251c62-f976-40c5-88c7-7a05e55f6523",
   "metadata": {},
   "outputs": [],
   "source": [
    "def filter_estimator(\n",
    "    df: pd.DataFrame, value: str, col: str = \"estimator\"\n",
    ") -> pd.DataFrame:\n",
    "    return df[df[col] == value].copy()\n",
    "\n",
    "\n",
    "def update_figure(fig, width=1300, height=1000):\n",
    "\n",
    "    fig.update_layout(\n",
    "        # TODO: it does not work in case of facet_col.. fix it!\n",
    "        #    xaxis = dict(\n",
    "        #        tickmode = 'linear',\n",
    "        #        tick0 = 0.0,\n",
    "        #        dtick = 0.05\n",
    "        #    ),\n",
    "        width=width,\n",
    "        height=height,\n",
    "    )\n",
    "    fig.update_layout(\n",
    "        legend=dict(orientation=\"h\", yanchor=\"bottom\", y=1.02, xanchor=\"left\", x=0.0)\n",
    "    )"
   ]
  },
  {
   "cell_type": "markdown",
   "id": "28ac3cab-bc5b-48fd-9f8b-12bc20734ece",
   "metadata": {},
   "source": [
    "# 1. Results with passive adversary"
   ]
  },
  {
   "cell_type": "code",
   "execution_count": null,
   "id": "f5ae7ba3-9de6-4728-955c-b315477de6c8",
   "metadata": {},
   "outputs": [],
   "source": [
    "passive_random_df = pd.read_csv(\"scripts/random_reg_1000_with_dandelions.csv\")\n",
    "# passive_random_df = pd.read_csv(\"scripts/test.csv\")\n",
    "passive_random_df[\"graph_model\"] = \"random_regular\"\n",
    "passive_random_df[\"adversary_type\"] = \"passive\"\n",
    "passive_random_df.shape"
   ]
  },
  {
   "cell_type": "code",
   "execution_count": null,
   "id": "958cfb04-1ca3-4e01-9b40-35436db4857d",
   "metadata": {},
   "outputs": [],
   "source": [
    "passive_goerli_df = pd.read_csv(\"scripts/goerli_with_dandelions.csv\")\n",
    "# passive_goerli_df = pd.read_csv(\"scripts/goerli_test.csv\")\n",
    "passive_goerli_df[\"graph_model\"] = \"goerli_testnet\"\n",
    "passive_goerli_df[\"adversary_type\"] = \"passive\"\n",
    "passive_goerli_df.shape"
   ]
  },
  {
   "cell_type": "markdown",
   "id": "bd89afe4-4d19-4d29-bced-ca78cde9e037",
   "metadata": {},
   "source": [
    "#### Shorten protocol names before visualization"
   ]
  },
  {
   "cell_type": "code",
   "execution_count": null,
   "id": "13ef2f02-4c17-449c-9d01-64db7e4b891e",
   "metadata": {},
   "outputs": [],
   "source": [
    "passive_random_df = extract_config_columns(passive_random_df)\n",
    "passive_goerli_df = extract_config_columns(passive_goerli_df)"
   ]
  },
  {
   "cell_type": "markdown",
   "id": "0f93b9f8-7dae-4027-a7c1-6694eb627e67",
   "metadata": {},
   "source": [
    "## i.) Estimator comparison: first reach vs. first sent\n",
    "\n",
    "- random regular graph with 1000 nodes and 50 degree\n",
    "- 5% of all nodes send messages (~ number of messages)"
   ]
  },
  {
   "cell_type": "code",
   "execution_count": null,
   "id": "c8a38d33-0390-47c6-a0a6-0eda56ab3cfa",
   "metadata": {},
   "outputs": [],
   "source": [
    "passive_random_results = prepare_results_for_visualization(passive_random_df)"
   ]
  },
  {
   "cell_type": "markdown",
   "id": "05ec4d83-5b72-4ca4-87da-282ae3039b81",
   "metadata": {},
   "source": [
    "### Observations\n",
    "\n",
    "- Adversary is more efficient with higher adversary ratio - **OK**\n",
    "- Adversary can better deanonymize simple Broadcast than Dandelion(++) - **OK**\n",
    "- Dandelion and Dandelion++ has comparable results with the same broadcast probability - **OK**\n",
    "- Average message spread ratio (fraction of nodes receiving each message) is 1.0 despite the protocol - **OK**"
   ]
  },
  {
   "cell_type": "code",
   "execution_count": null,
   "id": "c8d6962c-9b15-44e1-85bb-a97ff73a92d5",
   "metadata": {},
   "outputs": [],
   "source": [
    "fig = px.box(\n",
    "    passive_random_results,\n",
    "    x=\"adversary_ratio\",\n",
    "    y=\"value\",\n",
    "    color=\"protocol\",\n",
    "    facet_col=\"estimator\",\n",
    "    facet_row=\"metric\",\n",
    ")\n",
    "update_figure(fig)\n",
    "fig.write_image(\"figures/passive_estimator_check.png\")\n",
    "fig.show()"
   ]
  },
  {
   "cell_type": "markdown",
   "id": "fe4aee46-eea0-48b9-9486-7d2d1be31a70",
   "metadata": {},
   "source": [
    "## ii.) Graph model comparison: random regular vs. Goerli testnet\n",
    "\n",
    "- Goerli testnet has approximately 1,5K nodes and 20K edges\n",
    "- 5% of all nodes send messages (~ number of messages)"
   ]
  },
  {
   "cell_type": "code",
   "execution_count": null,
   "id": "25badc70-0d0f-46b2-8a1b-da990df899c9",
   "metadata": {},
   "outputs": [],
   "source": [
    "passive_goerli_results = prepare_results_for_visualization(passive_goerli_df)"
   ]
  },
  {
   "cell_type": "code",
   "execution_count": null,
   "id": "42bdbe89-d5f9-4fc8-904a-041bc4108695",
   "metadata": {},
   "outputs": [],
   "source": [
    "passive_first_sent_results = pd.concat(\n",
    "    [\n",
    "        passive_random_results[passive_random_results[\"estimator\"] == \"first_sent\"],\n",
    "        passive_goerli_results[passive_goerli_results[\"estimator\"] == \"first_sent\"],\n",
    "    ]\n",
    ")"
   ]
  },
  {
   "cell_type": "markdown",
   "id": "6c0aa985-e7df-45c1-b0c0-6c6a0fc87462",
   "metadata": {},
   "source": [
    "### Observations (only first sent estimator results are shown!)\n",
    "\n",
    "- Adversary ratio and protocol parameters trend are similar - **OK**\n",
    "- In general, adversary is less effective for the Goerli testnet than for random regular graphs - **Interesting**\n",
    "- Dandelion results have smaller deviation (because we use the same network structure 10 times) - **OK**\n",
    "- Average message spread ratio (fraction of nodes receiving each message) is 1.0 despite the protocol and graph model - **OK**"
   ]
  },
  {
   "cell_type": "code",
   "execution_count": null,
   "id": "72f91d7e-afbd-496c-8af3-cc61e278f0ed",
   "metadata": {},
   "outputs": [],
   "source": [
    "fig = px.box(\n",
    "    passive_first_sent_results,\n",
    "    x=\"adversary_ratio\",\n",
    "    y=\"value\",\n",
    "    color=\"protocol\",\n",
    "    facet_col=\"graph_model\",\n",
    "    facet_row=\"metric\",\n",
    ")\n",
    "update_figure(fig)\n",
    "fig.write_image(\"figures/graph_model_comparision.png\")\n",
    "fig.show()"
   ]
  },
  {
   "cell_type": "markdown",
   "id": "56e2b2df-b1b1-43cb-ae83-b485d9f7457e",
   "metadata": {},
   "source": [
    "## iii.) Broadcast to all nodes (instead of sqrt amount of them)"
   ]
  },
  {
   "cell_type": "code",
   "execution_count": null,
   "id": "a02665d0-eaf5-4921-90f4-c74054c93d60",
   "metadata": {},
   "outputs": [],
   "source": [
    "passive_random_all_bc_df = pd.read_csv(\n",
    "    \"scripts/random_reg_1000_with_dandelions_bc_all.csv\"\n",
    ")\n",
    "passive_random_all_bc_df[\"graph_model\"] = \"random_regular\"\n",
    "passive_random_all_bc_df[\"adversary_type\"] = \"passive\"\n",
    "passive_random_all_bc_df.shape"
   ]
  },
  {
   "cell_type": "code",
   "execution_count": null,
   "id": "fd5bf004-508a-4a21-aa1c-3f5b6bca4301",
   "metadata": {},
   "outputs": [],
   "source": [
    "passive_goerli_all_bc_df = pd.read_csv(\"scripts/goerli_with_dandelions_bc_all.csv\")\n",
    "passive_goerli_all_bc_df[\"graph_model\"] = \"goerli_testnet\"\n",
    "passive_goerli_all_bc_df[\"adversary_type\"] = \"passive\"\n",
    "passive_goerli_all_bc_df.shape"
   ]
  },
  {
   "cell_type": "markdown",
   "id": "125ca257-ec45-4a14-9e60-4ec3c1ee95b5",
   "metadata": {},
   "source": [
    "#### Shorten protocol names before visualization"
   ]
  },
  {
   "cell_type": "code",
   "execution_count": null,
   "id": "155be992-7413-4dfc-a182-33395c901bf7",
   "metadata": {},
   "outputs": [],
   "source": [
    "passive_random_all_bc_df = extract_config_columns(passive_random_all_bc_df)\n",
    "passive_goerli_all_bc_df = extract_config_columns(passive_goerli_all_bc_df)"
   ]
  },
  {
   "cell_type": "code",
   "execution_count": null,
   "id": "8f5a32a5-045a-4b48-b044-10b013b13da0",
   "metadata": {},
   "outputs": [],
   "source": [
    "passive_random_all_bc_results = prepare_results_for_visualization(\n",
    "    passive_random_all_bc_df\n",
    ")\n",
    "passive_goerli_all_bc_results = prepare_results_for_visualization(\n",
    "    passive_goerli_all_bc_df\n",
    ")"
   ]
  },
  {
   "cell_type": "code",
   "execution_count": null,
   "id": "2da88b9c-7486-4721-9cf9-adbc788f170f",
   "metadata": {},
   "outputs": [],
   "source": [
    "passive_bc_first_sent_results = pd.concat(\n",
    "    [\n",
    "        passive_random_results[passive_random_results[\"estimator\"] == \"first_sent\"],\n",
    "        passive_goerli_results[passive_goerli_results[\"estimator\"] == \"first_sent\"],\n",
    "        passive_random_all_bc_results[\n",
    "            passive_random_all_bc_results[\"estimator\"] == \"first_sent\"\n",
    "        ],\n",
    "        passive_goerli_all_bc_results[\n",
    "            passive_goerli_all_bc_results[\"estimator\"] == \"first_sent\"\n",
    "        ],\n",
    "    ]\n",
    ")"
   ]
  },
  {
   "cell_type": "markdown",
   "id": "fde2a45f-ead0-407f-9c5b-f50c7d07dba4",
   "metadata": {},
   "source": [
    "### Observations (only first sent estimator results are shown!)\n",
    "\n",
    "- Adversary can better deanonymize if message is sent to all neighbors - **OK**"
   ]
  },
  {
   "cell_type": "code",
   "execution_count": null,
   "id": "043ec7e7-fdaf-48c5-9f48-efc5ccf3857f",
   "metadata": {},
   "outputs": [],
   "source": [
    "fig = px.box(\n",
    "    passive_bc_first_sent_results[\n",
    "        passive_bc_first_sent_results[\"metric\"] == \"hit_ratio\"\n",
    "    ],\n",
    "    x=\"adversary_ratio\",\n",
    "    y=\"value\",\n",
    "    color=\"protocol\",\n",
    "    facet_col=\"broadcast_mode\",\n",
    "    facet_row=\"graph_model\",\n",
    "    labels={\"value\": \"hit_ratio\"},\n",
    ")\n",
    "update_figure(fig, 1200, 500)\n",
    "fig.write_image(\"figures/broadcast_mode_hit_ratio.png\")\n",
    "fig.show()"
   ]
  },
  {
   "cell_type": "markdown",
   "id": "bd912850-8979-4355-9155-7e461181803f",
   "metadata": {},
   "source": [
    "- message spread is less in case of broadcasting message to all neighbors - **WHY?**"
   ]
  },
  {
   "cell_type": "code",
   "execution_count": null,
   "id": "0aa1d325-0376-4dc8-a2ae-6f14feea8d50",
   "metadata": {},
   "outputs": [],
   "source": [
    "fig = px.box(\n",
    "    passive_bc_first_sent_results[\n",
    "        passive_bc_first_sent_results[\"metric\"] == \"message_spread_ratio\"\n",
    "    ],\n",
    "    x=\"adversary_ratio\",\n",
    "    y=\"value\",\n",
    "    color=\"protocol\",\n",
    "    facet_col=\"broadcast_mode\",\n",
    "    facet_row=\"graph_model\",\n",
    "    labels={\"value\": \"message_spread_ratio\"},\n",
    ")\n",
    "update_figure(fig, 1200, 500)\n",
    "fig.write_image(\"figures/broadcast_mode_message_spread.png\")\n",
    "fig.show()"
   ]
  },
  {
   "cell_type": "markdown",
   "id": "99f95340-07fa-4899-8323-4265c9c6ee39",
   "metadata": {},
   "source": [
    "## iv.) Central nodes as adversaries"
   ]
  },
  {
   "cell_type": "code",
   "execution_count": null,
   "id": "9ce43de1-9297-45e7-b7e2-e5c150b5b9c2",
   "metadata": {},
   "outputs": [],
   "source": [
    "#passive_goerli_degree_df = pd.read_csv(\"scripts/goerli_degree_with_dandelions.csv\")\n",
    "passive_goerli_degree_df = pd.read_csv(\"scripts/random_regular_1000_degree_with_dandelions.csv\")\n",
    "passive_goerli_degree_df[\"centrality\"] = \"degree\"\n",
    "passive_goerli_degree_df.shape"
   ]
  },
  {
   "cell_type": "code",
   "execution_count": null,
   "id": "6625e88c-7bd6-47cf-b47c-26acf9a88a68",
   "metadata": {},
   "outputs": [],
   "source": [
    "#passive_goerli_none_df = pd.read_csv(\"scripts/goerli_none_with_dandelions.csv\")\n",
    "passive_goerli_none_df = pd.read_csv(\"scripts/random_regular_1000_none_with_dandelions.csv\")\n",
    "passive_goerli_none_df[\"centrality\"] = \"none\"\n",
    "passive_goerli_none_df.shape"
   ]
  },
  {
   "cell_type": "markdown",
   "id": "67b050f5-8db7-40df-8137-f85a9767e30f",
   "metadata": {},
   "source": [
    "#### Shorten protocol names before visualization"
   ]
  },
  {
   "cell_type": "code",
   "execution_count": null,
   "id": "5e30063c-5638-486c-8594-0b15e29a9525",
   "metadata": {},
   "outputs": [],
   "source": [
    "passive_goerli_degree_df = extract_config_columns(passive_goerli_degree_df)\n",
    "passive_goerli_none_df = extract_config_columns(passive_goerli_none_df)"
   ]
  },
  {
   "cell_type": "code",
   "execution_count": null,
   "id": "bda16d48-0772-4f21-a685-890826cdd642",
   "metadata": {},
   "outputs": [],
   "source": [
    "passive_goerli_degree_results = prepare_results_for_visualization(\n",
    "    passive_goerli_degree_df, id_vars=[\"protocol\",\"centrality\",\"estimator\",\"adversary_ratio\"]\n",
    ")\n",
    "passive_goerli_none_results = prepare_results_for_visualization(\n",
    "    passive_goerli_none_df, id_vars=[\"protocol\",\"centrality\",\"estimator\",\"adversary_ratio\"]\n",
    ")"
   ]
  },
  {
   "cell_type": "code",
   "execution_count": null,
   "id": "7bb48b24-514e-462a-8781-2606160f9ebe",
   "metadata": {},
   "outputs": [],
   "source": [
    "passive_centrality_results = pd.concat(\n",
    "    [\n",
    "        passive_goerli_degree_results[passive_goerli_degree_results[\"estimator\"] == \"first_sent\"],\n",
    "        passive_goerli_none_results[passive_goerli_none_results[\"estimator\"] == \"first_sent\"],\n",
    "    ]\n",
    ")"
   ]
  },
  {
   "cell_type": "markdown",
   "id": "b8d59c07-af5d-4207-8eb5-24bb7ba61da0",
   "metadata": {},
   "source": [
    "### Observations (only first sent estimator results are shown!)\n",
    "\n",
    "- Something is wrong with Dandelion protocols!!! Performance is zero while it was positive before that..."
   ]
  },
  {
   "cell_type": "code",
   "execution_count": null,
   "id": "dd5be07a-e8ac-4cd2-a844-0b7f0df7c4ae",
   "metadata": {},
   "outputs": [],
   "source": [
    "fig = px.box(\n",
    "    passive_centrality_results,\n",
    "    x=\"adversary_ratio\",\n",
    "    y=\"value\",\n",
    "    color=\"protocol\",\n",
    "    facet_col=\"centrality\",\n",
    "    facet_row=\"metric\",\n",
    ")\n",
    "update_figure(fig)\n",
    "fig.show()"
   ]
  },
  {
   "cell_type": "markdown",
   "id": "2757de3d-4ed6-47a5-821c-2ce227cc25ca",
   "metadata": {},
   "source": [
    "# 2. Active vs. passive adversary"
   ]
  },
  {
   "cell_type": "code",
   "execution_count": null,
   "id": "60a39d47-dd9b-497c-b742-69cf00834f8d",
   "metadata": {},
   "outputs": [],
   "source": [
    "active_random_df = pd.read_csv(\n",
    "    \"scripts/random_reg_1000_with_dandelions_active_adversary.csv\"\n",
    ")\n",
    "active_random_df[\"graph_model\"] = \"random_regular\"\n",
    "active_random_df[\"adversary_type\"] = \"active\"\n",
    "active_random_df.shape"
   ]
  },
  {
   "cell_type": "code",
   "execution_count": null,
   "id": "cb8e3905-ced1-4462-b4b3-6753bdcba549",
   "metadata": {},
   "outputs": [],
   "source": [
    "active_goerli_df = pd.read_csv(\"scripts/goerli_with_dandelions_active_adversary.csv\")\n",
    "active_goerli_df[\"graph_model\"] = \"goerli_testnet\"\n",
    "active_goerli_df[\"adversary_type\"] = \"active\"\n",
    "active_goerli_df.shape"
   ]
  },
  {
   "cell_type": "markdown",
   "id": "bc6fce6d-1caa-4002-9920-4d00073543e2",
   "metadata": {},
   "source": [
    "#### Shorten protocol names before visualization"
   ]
  },
  {
   "cell_type": "code",
   "execution_count": null,
   "id": "94236893-0c50-47dc-b877-d75db5b481c3",
   "metadata": {},
   "outputs": [],
   "source": [
    "active_random_df = extract_config_columns(active_random_df)\n",
    "active_goerli_df = extract_config_columns(active_goerli_df)"
   ]
  },
  {
   "cell_type": "code",
   "execution_count": null,
   "id": "bbeb12ea-c9b9-461e-8dd3-e44faa3e354c",
   "metadata": {},
   "outputs": [],
   "source": [
    "active_random_results = prepare_results_for_visualization(active_random_df)\n",
    "active_goerli_results = prepare_results_for_visualization(active_goerli_df)"
   ]
  },
  {
   "cell_type": "code",
   "execution_count": null,
   "id": "5b25d80e-012d-4c1d-a88d-85a171997ef1",
   "metadata": {},
   "outputs": [],
   "source": [
    "passive_active_results = pd.concat(\n",
    "    [\n",
    "        passive_random_results[passive_random_results[\"estimator\"] == \"first_sent\"],\n",
    "        passive_goerli_results[passive_goerli_results[\"estimator\"] == \"first_sent\"],\n",
    "        active_random_results[active_random_results[\"estimator\"] == \"first_sent\"],\n",
    "        active_goerli_results[active_goerli_results[\"estimator\"] == \"first_sent\"],\n",
    "    ]\n",
    ")"
   ]
  },
  {
   "cell_type": "markdown",
   "id": "d6ca4113-0317-47c8-864a-e408d61a5b0d",
   "metadata": {},
   "source": [
    "### Observations\n",
    "\n",
    "- Active adversary effect on message spread behaves as expected - **OK**"
   ]
  },
  {
   "cell_type": "code",
   "execution_count": null,
   "id": "0f6b03dc-9b35-4b33-be59-bc590d53485c",
   "metadata": {},
   "outputs": [],
   "source": [
    "fig = px.box(\n",
    "    passive_active_results[passive_active_results[\"metric\"] == \"message_spread_ratio\"],\n",
    "    x=\"adversary_ratio\",\n",
    "    y=\"value\",\n",
    "    color=\"protocol\",\n",
    "    facet_col=\"adversary_type\",\n",
    "    facet_row=\"graph_model\",\n",
    "    labels={\"value\": \"message_spread_ratio\"},\n",
    ")\n",
    "update_figure(fig, 1200, 500)\n",
    "fig.write_image(\"figures/passive_vs_active_adversary_message_spread.png\")\n",
    "fig.show()"
   ]
  },
  {
   "cell_type": "markdown",
   "id": "61288ecb-37b3-4a63-afda-9cec7668f54b",
   "metadata": {},
   "source": [
    "- **BUT** How can performance be lower for active adversary? **Only adversary nodes can stop message propagation so they receive the same information, right? then how?**\n",
    "   - actually results are comparable (probably the difference is not significant)"
   ]
  },
  {
   "cell_type": "code",
   "execution_count": null,
   "id": "6f4aceee-8dfe-402d-b531-7e14ab85ace2",
   "metadata": {},
   "outputs": [],
   "source": [
    "fig = px.box(\n",
    "    passive_active_results[passive_active_results[\"metric\"] == \"ndcg\"],\n",
    "    x=\"adversary_ratio\",\n",
    "    y=\"value\",\n",
    "    color=\"protocol\",\n",
    "    facet_col=\"adversary_type\",\n",
    "    facet_row=\"graph_model\",\n",
    "    labels={\"value\": \"ndcg\"},\n",
    ")\n",
    "update_figure(fig, 1200, 500)\n",
    "fig.write_image(\"figures/passive_vs_active_adversary_ndcg.png\")\n",
    "fig.show()"
   ]
  },
  {
   "cell_type": "code",
   "execution_count": null,
   "id": "557bc1d7-5850-4b1d-b50b-2b9f32df3ce8",
   "metadata": {},
   "outputs": [],
   "source": [
    "fig = px.box(\n",
    "    passive_active_results[passive_active_results[\"metric\"] == \"hit_ratio\"],\n",
    "    x=\"adversary_ratio\",\n",
    "    y=\"value\",\n",
    "    color=\"protocol\",\n",
    "    facet_col=\"adversary_type\",\n",
    "    facet_row=\"graph_model\",\n",
    "    labels={\"value\": \"hit_ratio\"},\n",
    ")\n",
    "update_figure(fig, 1200, 500)\n",
    "fig.write_image(\"figures/passive_vs_active_adversary_hit_ratio.png\")\n",
    "fig.show()"
   ]
  },
  {
   "cell_type": "markdown",
   "id": "6bcae350-203d-4216-a2f7-ab3a3a0c9983",
   "metadata": {
    "tags": []
   },
   "source": [
    "### TODO: experiment with random regular degree\n",
    "### TODO: experiment with weighted nodes: stake (for message source selection)\n",
    "### TODO: experiment with weighted nodes: centrality (for adversary node selection)"
   ]
  },
  {
   "cell_type": "markdown",
   "id": "3247245b-a995-4f68-9c69-3311712d332e",
   "metadata": {},
   "source": [
    "# Node contact time cexperiments"
   ]
  },
  {
   "cell_type": "code",
   "execution_count": null,
   "id": "87980262-2c2e-452f-b235-58766c8c657f",
   "metadata": {},
   "outputs": [],
   "source": [
    "def extract_contact_time_quantiles(\n",
    "    dataframe, group_cols=[\"protocol\"], target_col=\"mean_contact_time_quantiles\"\n",
    "):\n",
    "    df = dataframe.copy()\n",
    "    df[target_col] = df[target_col].apply(eval)\n",
    "    mean_time_q_aggr = (\n",
    "        filter_estimator(df, \"first_sent\")\n",
    "        .groupby(group_cols)[target_col]\n",
    "        .sum()\n",
    "        .reset_index()\n",
    "    )\n",
    "    # print(mean_time_q_aggr.head())\n",
    "    mean_time_q_aggr[target_col] = mean_time_q_aggr[target_col].apply(\n",
    "        lambda x: np.mean(np.array(x).reshape(-1, 9), axis=0)\n",
    "    )\n",
    "    old_cols = set(mean_time_q_aggr.columns)\n",
    "    mean_time_q_aggr = mean_time_q_aggr.assign(\n",
    "        **pd.DataFrame(mean_time_q_aggr[target_col].values.tolist()).add_prefix(\"q_\")\n",
    "    )\n",
    "    diff_cols = sorted(list(set(mean_time_q_aggr.columns).difference(old_cols)))\n",
    "    visu_df = mean_time_q_aggr.melt(\n",
    "        id_vars=group_cols, value_vars=diff_cols, value_name=\"time\", var_name=\"quantile\"\n",
    "    )\n",
    "    replace_map = dict(zip(diff_cols, np.arange(0.1, 1.1, 0.1)))\n",
    "    visu_df[\"quantile\"] = visu_df[\"quantile\"].replace(replace_map)\n",
    "    return visu_df"
   ]
  },
  {
   "cell_type": "markdown",
   "id": "04f361dc-ba92-4071-b031-2837e141efd5",
   "metadata": {},
   "source": [
    "### Nodes are reached slower on the Goerli testnet than on random regular graph - **OK** (Goerli is larger)"
   ]
  },
  {
   "cell_type": "code",
   "execution_count": null,
   "id": "f889d77d-6ddf-48d8-82df-56e2f7ea7889",
   "metadata": {},
   "outputs": [],
   "source": [
    "visu1 = extract_contact_time_quantiles(passive_random_df)\n",
    "visu1[\"graph_model\"] = \"random_regular\"\n",
    "visu2 = extract_contact_time_quantiles(passive_goerli_df)\n",
    "visu2[\"graph_model\"] = \"goerli_testnet\"\n",
    "visu_df = pd.concat([visu1, visu2])"
   ]
  },
  {
   "cell_type": "code",
   "execution_count": null,
   "id": "565b060c-da0a-4d4f-a1e5-d81f0a0ba6e9",
   "metadata": {},
   "outputs": [],
   "source": [
    "fig = px.line(visu_df, x=\"quantile\", y=\"time\", color=\"protocol\", symbol=\"graph_model\")\n",
    "fig.show()"
   ]
  },
  {
   "cell_type": "markdown",
   "id": "3614259f-e64f-4780-846e-342eb2102cee",
   "metadata": {},
   "source": [
    "### Nodes are reached slower in case of \"sqrt\" boradcast setting - **OK**"
   ]
  },
  {
   "cell_type": "code",
   "execution_count": null,
   "id": "71bdf01f-ac9d-42eb-bb6c-66977967a1b9",
   "metadata": {},
   "outputs": [],
   "source": [
    "visu1 = extract_contact_time_quantiles(passive_random_all_bc_df)\n",
    "visu1[\"broadcast_mode\"] = \"all\"\n",
    "visu2 = extract_contact_time_quantiles(passive_random_df)\n",
    "visu2[\"broadcast_mode\"] = \"sqrt\"\n",
    "visu_df = pd.concat([visu1, visu2])"
   ]
  },
  {
   "cell_type": "code",
   "execution_count": null,
   "id": "1cedb986-b85c-4027-b9dd-907e58e5396f",
   "metadata": {},
   "outputs": [],
   "source": [
    "fig = px.line(\n",
    "    visu_df, x=\"quantile\", y=\"time\", color=\"protocol\", symbol=\"broadcast_mode\"\n",
    ")\n",
    "fig.show()"
   ]
  },
  {
   "cell_type": "markdown",
   "id": "5a706435-f093-48ab-ad8c-e4d3ea11d447",
   "metadata": {},
   "source": [
    "### TODO: use different quantiles: 0.5%, 1%, 5%, 10%, 50%, 90% "
   ]
  },
  {
   "cell_type": "code",
   "execution_count": null,
   "id": "7ca37f80-5d45-40d6-aa96-4a968e12bf8c",
   "metadata": {},
   "outputs": [],
   "source": []
  }
 ],
 "metadata": {
  "kernelspec": {
   "display_name": "Python 3 (ipykernel)",
   "language": "python",
   "name": "python3"
  },
  "language_info": {
   "codemirror_mode": {
    "name": "ipython",
    "version": 3
   },
   "file_extension": ".py",
   "mimetype": "text/x-python",
   "name": "python",
   "nbconvert_exporter": "python",
   "pygments_lexer": "ipython3",
   "version": "3.8.15"
  }
 },
 "nbformat": 4,
 "nbformat_minor": 5
}
