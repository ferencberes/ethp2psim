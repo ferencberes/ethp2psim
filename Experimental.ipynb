{
 "cells": [
  {
   "cell_type": "code",
   "execution_count": 1,
   "id": "165e944e-c63c-491e-920c-66979d4666fe",
   "metadata": {},
   "outputs": [],
   "source": [
    "import networkx as nx\n",
    "import matplotlib.pyplot as plt\n",
    "import numpy as np"
   ]
  },
  {
   "cell_type": "code",
   "execution_count": 2,
   "id": "a8f771e6-18a2-4591-81a4-3467dd11e738",
   "metadata": {},
   "outputs": [],
   "source": [
    "import sys\n",
    "sys.path.insert(0, \"python\")\n",
    "from network import *\n",
    "from protocols import *\n",
    "from adversary import *\n",
    "from simulator import *"
   ]
  },
  {
   "cell_type": "code",
   "execution_count": 3,
   "id": "bed24285-40ae-4b71-b01d-9cbe5b735413",
   "metadata": {},
   "outputs": [],
   "source": [
    "def run_and_eval(net: Network, adv: Adversary, protocol: Protocol):\n",
    "    sim = Simulator(protocol, adv, int(network_size / 10), verbose=False)\n",
    "    sim.run()\n",
    "    evaluator = Evaluator(sim)\n",
    "    report = evaluator.get_report()\n",
    "    report[\"protocol\"] = str(protocol)\n",
    "    report[\"adversary_ratio\"] = adv_ratio\n",
    "    return report"
   ]
  },
  {
   "cell_type": "markdown",
   "id": "0ddf649b-db53-46fb-9ddc-aaf18c61b808",
   "metadata": {},
   "source": [
    "#### we have a bug in Dandelion? do messages really enter the spreading phase?"
   ]
  },
  {
   "cell_type": "code",
   "execution_count": 4,
   "id": "b9d70cd2-3846-491b-b2c3-a29a37445cac",
   "metadata": {},
   "outputs": [
    {
     "name": "stdout",
     "output_type": "stream",
     "text": [
      "0.01\n",
      "0.025\n",
      "0.05\n",
      "0.075\n",
      "0.1\n"
     ]
    }
   ],
   "source": [
    "network_size = 1000\n",
    "num_trials = 10\n",
    "results = []\n",
    "# it could be parallelized\n",
    "for adv_ratio in [0.01,0.025,0.05,0.075,0.1]:\n",
    "    for _ in range(num_trials):\n",
    "        # this part cannot be parallelized: it is important that different protocols will be evaluated with the same network and adversary setting\n",
    "        net = Network(network_size, 50)\n",
    "        adv = Adversary(net, adv_ratio)\n",
    "        # BUT: messages won't be the same!!!\n",
    "        results.append(run_and_eval(net, adv, BroadcastProtocol(net)))\n",
    "        #results.append(run_and_eval(net, adv, DandelionProtocol(net, 0.5)))\n",
    "        #results.append(run_and_eval(net, adv, DandelionProtocol(net, 0.25)))\n",
    "    print(adv_ratio)"
   ]
  },
  {
   "cell_type": "code",
   "execution_count": 5,
   "id": "05812234-7cc1-403e-a570-5cb8061d0f89",
   "metadata": {},
   "outputs": [],
   "source": [
    "import seaborn as sns"
   ]
  },
  {
   "cell_type": "code",
   "execution_count": 6,
   "id": "c344632b-1ba5-4861-a782-6f870c22c587",
   "metadata": {},
   "outputs": [
    {
     "data": {
      "text/html": [
       "<div>\n",
       "<style scoped>\n",
       "    .dataframe tbody tr th:only-of-type {\n",
       "        vertical-align: middle;\n",
       "    }\n",
       "\n",
       "    .dataframe tbody tr th {\n",
       "        vertical-align: top;\n",
       "    }\n",
       "\n",
       "    .dataframe thead th {\n",
       "        text-align: right;\n",
       "    }\n",
       "</style>\n",
       "<table border=\"1\" class=\"dataframe\">\n",
       "  <thead>\n",
       "    <tr style=\"text-align: right;\">\n",
       "      <th></th>\n",
       "      <th>hit_ratio</th>\n",
       "      <th>mean_inverse_rank</th>\n",
       "      <th>protocol</th>\n",
       "      <th>adversary_ratio</th>\n",
       "    </tr>\n",
       "  </thead>\n",
       "  <tbody>\n",
       "    <tr>\n",
       "      <th>0</th>\n",
       "      <td>0.14</td>\n",
       "      <td>0.141717</td>\n",
       "      <td>BroadcastProtocol()</td>\n",
       "      <td>0.01</td>\n",
       "    </tr>\n",
       "    <tr>\n",
       "      <th>1</th>\n",
       "      <td>0.17</td>\n",
       "      <td>0.171657</td>\n",
       "      <td>BroadcastProtocol()</td>\n",
       "      <td>0.01</td>\n",
       "    </tr>\n",
       "    <tr>\n",
       "      <th>2</th>\n",
       "      <td>0.21</td>\n",
       "      <td>0.211577</td>\n",
       "      <td>BroadcastProtocol()</td>\n",
       "      <td>0.01</td>\n",
       "    </tr>\n",
       "    <tr>\n",
       "      <th>3</th>\n",
       "      <td>0.16</td>\n",
       "      <td>0.161677</td>\n",
       "      <td>BroadcastProtocol()</td>\n",
       "      <td>0.01</td>\n",
       "    </tr>\n",
       "    <tr>\n",
       "      <th>4</th>\n",
       "      <td>0.23</td>\n",
       "      <td>0.231537</td>\n",
       "      <td>BroadcastProtocol()</td>\n",
       "      <td>0.01</td>\n",
       "    </tr>\n",
       "  </tbody>\n",
       "</table>\n",
       "</div>"
      ],
      "text/plain": [
       "   hit_ratio  mean_inverse_rank             protocol  adversary_ratio\n",
       "0       0.14           0.141717  BroadcastProtocol()             0.01\n",
       "1       0.17           0.171657  BroadcastProtocol()             0.01\n",
       "2       0.21           0.211577  BroadcastProtocol()             0.01\n",
       "3       0.16           0.161677  BroadcastProtocol()             0.01\n",
       "4       0.23           0.231537  BroadcastProtocol()             0.01"
      ]
     },
     "execution_count": 6,
     "metadata": {},
     "output_type": "execute_result"
    }
   ],
   "source": [
    "results_df = pd.DataFrame(results)\n",
    "results_df.head()"
   ]
  },
  {
   "cell_type": "code",
   "execution_count": 7,
   "id": "e0a3d5b2-ccb9-4fe9-abe1-21eb7c1a957f",
   "metadata": {},
   "outputs": [
    {
     "data": {
      "text/plain": [
       "<AxesSubplot: xlabel='adversary_ratio', ylabel='hit_ratio'>"
      ]
     },
     "execution_count": 7,
     "metadata": {},
     "output_type": "execute_result"
    },
    {
     "data": {
      "image/png": "[encoded data removed]",
      "text/plain": [
       "<Figure size 640x480 with 1 Axes>"
      ]
     },
     "metadata": {},
     "output_type": "display_data"
    }
   ],
   "source": [
    "sns.boxplot(data=results_df, x=\"adversary_ratio\", y=\"hit_ratio\")"
   ]
  }
 ],
 "metadata": {
  "kernelspec": {
   "display_name": "Python 3 (ipykernel)",
   "language": "python",
   "name": "python3"
  },
  "language_info": {
   "codemirror_mode": {
    "name": "ipython",
    "version": 3
   },
   "file_extension": ".py",
   "mimetype": "text/x-python",
   "name": "python",
   "nbconvert_exporter": "python",
   "pygments_lexer": "ipython3",
   "version": "3.8.13"
  }
 },
 "nbformat": 4,
 "nbformat_minor": 5
}
