{
 "cells": [
  {
   "cell_type": "code",
   "execution_count": 4,
   "id": "165e944e-c63c-491e-920c-66979d4666fe",
   "metadata": {},
   "outputs": [],
   "source": [
    "import networkx as nx\n",
    "import matplotlib.pyplot as plt\n",
    "import seaborn as sns\n",
    "import numpy as np"
   ]
  },
  {
   "cell_type": "code",
   "execution_count": 5,
   "id": "a8f771e6-18a2-4591-81a4-3467dd11e738",
   "metadata": {},
   "outputs": [],
   "source": [
    "import sys\n",
    "\n",
    "sys.path.insert(0, \"python\")\n",
    "from network import *\n",
    "from protocols import *\n",
    "from adversary import *\n",
    "from simulator import *\n",
    "from experiments import run_and_eval, run_experiment"
   ]
  },
  {
   "cell_type": "code",
   "execution_count": 6,
   "id": "e5a1930a-43e7-45cb-891e-d6c893a579c3",
   "metadata": {},
   "outputs": [],
   "source": [
    "def shorten_protocol_name(x: str):\n",
    "    val = x.replace(\"Protocol\", \"\").replace(\"spreading_proba\", \"p\")\n",
    "    val = val.split(\"broadcast\")[0][:-1].replace(\"(\", \": \")\n",
    "    if val[-1] == \",\":\n",
    "        val = val[:-1]\n",
    "    return val"
   ]
  },
  {
   "cell_type": "code",
   "execution_count": 7,
   "id": "73b2f9a3-9208-4737-80bf-a39133f54600",
   "metadata": {},
   "outputs": [],
   "source": [
    "nw_generator = NodeWeightGenerator(\"random\")\n",
    "ew_generator = EdgeWeightGenerator(\"normal\")"
   ]
  },
  {
   "cell_type": "markdown",
   "id": "487965c1-4a45-4e89-b028-0f74a80389c1",
   "metadata": {},
   "source": [
    "# Dandelion example"
   ]
  },
  {
   "cell_type": "markdown",
   "id": "51baa236-4be6-457c-a599-533cb9f69588",
   "metadata": {},
   "source": [
    "net = Network(nw_generator, ew_generator, num_nodes=1000, k=20)"
   ]
  },
  {
   "cell_type": "code",
   "execution_count": null,
   "id": "21bcacf9-ac46-4055-b013-246a3ba88769",
   "metadata": {},
   "outputs": [],
   "source": [
    "seed = 32\n",
    "net = Network(nw_generator, ew_generator, num_nodes=10, k=2, seed=seed)"
   ]
  },
  {
   "cell_type": "code",
   "execution_count": null,
   "id": "a073474c-41a1-4013-ada2-3904839793e7",
   "metadata": {},
   "outputs": [],
   "source": [
    "np.mean(list(dict(net.graph.degree).values()))"
   ]
  },
  {
   "cell_type": "code",
   "execution_count": null,
   "id": "a27142f9-f63c-471e-a66d-2077b2aa9e8e",
   "metadata": {},
   "outputs": [],
   "source": [
    "tor = TOREnhancedProtocol(net, 1, 2, broadcast_mode=\"all\", seed=seed)"
   ]
  },
  {
   "cell_type": "code",
   "execution_count": null,
   "id": "6b5b1219-b0bf-4018-9ba9-0a17fd86346c",
   "metadata": {},
   "outputs": [],
   "source": [
    "np.mean(list(dict(net.graph.degree).values()))"
   ]
  },
  {
   "cell_type": "code",
   "execution_count": null,
   "id": "ff2eb721-ba6c-4ae5-aaa6-efc4d054e14a",
   "metadata": {},
   "outputs": [],
   "source": [
    "tor.tor_network"
   ]
  },
  {
   "cell_type": "code",
   "execution_count": null,
   "id": "8671fb79-9c70-42fe-8c66-50706edc2cb5",
   "metadata": {},
   "outputs": [],
   "source": [
    "tor.tor_network"
   ]
  },
  {
   "cell_type": "code",
   "execution_count": null,
   "id": "c3024b69-9fe2-4d5f-8a41-548694c6a6c4",
   "metadata": {},
   "outputs": [],
   "source": [
    "np.random.seed(seed)\n",
    "np.random.random(3)"
   ]
  },
  {
   "cell_type": "code",
   "execution_count": null,
   "id": "4e115e05-c4ba-43b7-af23-fed3e0edefe0",
   "metadata": {},
   "outputs": [],
   "source": [
    "np.random.random(3)"
   ]
  },
  {
   "cell_type": "code",
   "execution_count": null,
   "id": "d5a98159-e48d-4b65-8292-cc4dd8fc5beb",
   "metadata": {},
   "outputs": [],
   "source": [
    "msg = Message(0)\n",
    "adv = Adversary(tor, 0.1)"
   ]
  },
  {
   "cell_type": "code",
   "execution_count": null,
   "id": "481fdd8f-97d0-4bcd-9f59-0217a921e6c3",
   "metadata": {},
   "outputs": [],
   "source": [
    "msg.queue"
   ]
  },
  {
   "cell_type": "code",
   "execution_count": null,
   "id": "aba5ba8e-0227-4b78-9304-b5ddfa5236e6",
   "metadata": {},
   "outputs": [],
   "source": [
    "msg.process(tor, adv)"
   ]
  },
  {
   "cell_type": "code",
   "execution_count": null,
   "id": "f03455d2-8332-46b0-b734-d9dd90257a29",
   "metadata": {},
   "outputs": [],
   "source": [
    "list(net.graph.neighbors(4))"
   ]
  },
  {
   "cell_type": "code",
   "execution_count": null,
   "id": "652ebc5c-60e1-40b6-9a5a-c68ebf951a51",
   "metadata": {},
   "outputs": [],
   "source": [
    "alma"
   ]
  },
  {
   "cell_type": "code",
   "execution_count": null,
   "id": "6eee4f4e-c8f2-4537-b646-340cd4748833",
   "metadata": {},
   "outputs": [],
   "source": [
    "dp = DandelionProtocol(net, 0.5)"
   ]
  },
  {
   "cell_type": "code",
   "execution_count": null,
   "id": "a1a7a977-80a7-4851-a948-4c4eac66183b",
   "metadata": {},
   "outputs": [],
   "source": [
    "dp.anonymity_network.num_edges"
   ]
  },
  {
   "cell_type": "markdown",
   "id": "43233dcb-c096-485b-8590-6cb805fe0253",
   "metadata": {},
   "source": [
    "dp = DandelionPlusPlusProtocol(net, 0.5)"
   ]
  },
  {
   "cell_type": "markdown",
   "id": "23a115b3-e475-4963-b7f6-e543e9a7bc43",
   "metadata": {},
   "source": [
    "nx.draw(dp.anonymity_graph, node_size=20)"
   ]
  },
  {
   "cell_type": "code",
   "execution_count": null,
   "id": "32455f09-f154-411d-b4b5-84d48cbad05f",
   "metadata": {},
   "outputs": [],
   "source": [
    "%%time\n",
    "adv = Adversary(net, 0.1)\n",
    "sim = Simulator(dp, adv, 30, verbose=False)\n",
    "sim.run()"
   ]
  },
  {
   "cell_type": "code",
   "execution_count": null,
   "id": "74206e35-7ba1-4b23-8f8b-4bedbaad08f3",
   "metadata": {},
   "outputs": [],
   "source": [
    "%%time\n",
    "evaluator = Evaluator(sim, \"first_reach\")\n",
    "print(evaluator.get_report())"
   ]
  },
  {
   "cell_type": "code",
   "execution_count": null,
   "id": "513b4f8b-6d3b-4544-9c5c-9dd45730db11",
   "metadata": {},
   "outputs": [],
   "source": [
    "%%time\n",
    "evaluator = Evaluator(sim, \"first_sent\")\n",
    "print(evaluator.get_report())"
   ]
  },
  {
   "cell_type": "code",
   "execution_count": null,
   "id": "b694d0af-5777-4b5e-b441-4908a68f558a",
   "metadata": {},
   "outputs": [],
   "source": [
    "%%time\n",
    "evaluator = Evaluator(sim, \"dummy\")\n",
    "print(evaluator.get_report())"
   ]
  },
  {
   "cell_type": "markdown",
   "id": "6553ef75-ec39-4f8c-9443-12a75d995262",
   "metadata": {},
   "source": [
    "# Unittest in the making"
   ]
  },
  {
   "cell_type": "code",
   "execution_count": 2,
   "id": "7a116c09",
   "metadata": {},
   "outputs": [],
   "source": [
    "import sys, os, pytest\n",
    "\n",
    "sys.path.insert(0, \"%s/python\" % os.getcwd())\n",
    "import networkx as nx\n",
    "from network import Network, NodeWeightGenerator, EdgeWeightGenerator\n",
    "from simulator import Simulator, Evaluator\n",
    "from message import Message\n",
    "from protocols import BroadcastProtocol, DandelionProtocol, DandelionPlusPlusProtocol\n",
    "from adversary import Adversary"
   ]
  },
  {
   "cell_type": "code",
   "execution_count": 8,
   "id": "7a8f79c8-14f8-4c28-97af-49c8b3d52ebc",
   "metadata": {},
   "outputs": [
    {
     "name": "stdout",
     "output_type": "stream",
     "text": [
      "None\n"
     ]
    },
    {
     "ename": "ValueError",
     "evalue": "You should not use `broatcast_mode='sqrt'` with average graph degree less than 9! The provided graph has 2.0 average degree.",
     "output_type": "error",
     "traceback": [
      "\u001b[0;31m---------------------------------------------------------------------------\u001b[0m",
      "\u001b[0;31mValueError\u001b[0m                                Traceback (most recent call last)",
      "Cell \u001b[0;32mIn[8], line 9\u001b[0m\n\u001b[1;32m      7\u001b[0m \u001b[38;5;28mprint\u001b[39m(nx\u001b[38;5;241m.\u001b[39mdraw(G, with_labels\u001b[38;5;241m=\u001b[39m\u001b[38;5;28;01mTrue\u001b[39;00m))\n\u001b[1;32m      8\u001b[0m net \u001b[38;5;241m=\u001b[39m Network(rnd_node_weight, EdgeWeightGenerator(\u001b[38;5;124m\"\u001b[39m\u001b[38;5;124mcustom\u001b[39m\u001b[38;5;124m\"\u001b[39m), graph\u001b[38;5;241m=\u001b[39mG)\n\u001b[0;32m----> 9\u001b[0m protocol \u001b[38;5;241m=\u001b[39m \u001b[43mBroadcastProtocol\u001b[49m\u001b[43m(\u001b[49m\u001b[43mnet\u001b[49m\u001b[43m,\u001b[49m\u001b[43m \u001b[49m\u001b[43mseed\u001b[49m\u001b[38;5;241;43m=\u001b[39;49m\u001b[38;5;241;43m44\u001b[39;49m\u001b[43m)\u001b[49m\n\u001b[1;32m     10\u001b[0m adv \u001b[38;5;241m=\u001b[39m Adversary(net, ratio\u001b[38;5;241m=\u001b[39m\u001b[38;5;241m0.0\u001b[39m, adversaries\u001b[38;5;241m=\u001b[39m[\u001b[38;5;241m2\u001b[39m])\n\u001b[1;32m     11\u001b[0m \u001b[38;5;28mprint\u001b[39m(adv\u001b[38;5;241m.\u001b[39mnodes)\n",
      "File \u001b[0;32m~/Desktop/EFGrant/git/ethsim/python/protocols.py:137\u001b[0m, in \u001b[0;36mBroadcastProtocol.__init__\u001b[0;34m(self, network, broadcast_mode, seed)\u001b[0m\n\u001b[1;32m    135\u001b[0m avg_degree \u001b[38;5;241m=\u001b[39m np\u001b[38;5;241m.\u001b[39mmean(\u001b[38;5;28mlist\u001b[39m(\u001b[38;5;28mdict\u001b[39m(network\u001b[38;5;241m.\u001b[39mgraph\u001b[38;5;241m.\u001b[39mdegree())\u001b[38;5;241m.\u001b[39mvalues()))\n\u001b[1;32m    136\u001b[0m \u001b[38;5;28;01mif\u001b[39;00m avg_degree \u001b[38;5;241m<\u001b[39m \u001b[38;5;241m9.0\u001b[39m \u001b[38;5;129;01mand\u001b[39;00m broadcast_mode \u001b[38;5;241m==\u001b[39m \u001b[38;5;124m\"\u001b[39m\u001b[38;5;124msqrt\u001b[39m\u001b[38;5;124m\"\u001b[39m:\n\u001b[0;32m--> 137\u001b[0m     \u001b[38;5;28;01mraise\u001b[39;00m \u001b[38;5;167;01mValueError\u001b[39;00m(\n\u001b[1;32m    138\u001b[0m         \u001b[38;5;124m\"\u001b[39m\u001b[38;5;124mYou should not use `broatcast_mode=\u001b[39m\u001b[38;5;124m'\u001b[39m\u001b[38;5;124msqrt\u001b[39m\u001b[38;5;124m'\u001b[39m\u001b[38;5;124m` with average graph degree less than 9! The provided graph has \u001b[39m\u001b[38;5;132;01m%.1f\u001b[39;00m\u001b[38;5;124m average degree.\u001b[39m\u001b[38;5;124m\"\u001b[39m\n\u001b[1;32m    139\u001b[0m         \u001b[38;5;241m%\u001b[39m avg_degree\n\u001b[1;32m    140\u001b[0m     )\n\u001b[1;32m    141\u001b[0m \u001b[38;5;28;01melse\u001b[39;00m:\n\u001b[1;32m    142\u001b[0m     \u001b[38;5;28mself\u001b[39m\u001b[38;5;241m.\u001b[39mbroadcast_mode \u001b[38;5;241m=\u001b[39m broadcast_mode\n",
      "\u001b[0;31mValueError\u001b[0m: You should not use `broatcast_mode='sqrt'` with average graph degree less than 9! The provided graph has 2.0 average degree."
     ]
    },
    {
     "data": {
      "image/png": "[encoded data removed]",
      "text/plain": [
       "<Figure size 640x480 with 1 Axes>"
      ]
     },
     "metadata": {},
     "output_type": "display_data"
    }
   ],
   "source": [
    "### First sent vs First reach test\n",
    "rnd_node_weight = NodeWeightGenerator(\"random\")\n",
    "rnd_edge_weight = EdgeWeightGenerator(\"random\")\n",
    "G = nx.DiGraph()\n",
    "G.add_nodes_from([1, 2, 3])\n",
    "G.add_weighted_edges_from([(1, 2, 0.9), (1, 3, 1.84), (2, 3, 1.01)], weight=\"latency\")\n",
    "print(nx.draw(G, with_labels=True))\n",
    "net = Network(rnd_node_weight, EdgeWeightGenerator(\"custom\"), graph=G)\n",
    "protocol = BroadcastProtocol(net, seed=44)\n",
    "adv = Adversary(net, ratio=0.0, adversaries=[2])\n",
    "print(adv.nodes)\n",
    "assert 3 in adv.nodes\n",
    "\n",
    "# start a message from Node 1\n",
    "msg = Message(1)\n",
    "receiver_order = [1, 2, 2, 2]\n",
    "for i, receiver in enumerate(receiver_order):\n",
    "    msg.process(protocol, adv)\n",
    "    print(i, receiver, msg.history)\n",
    "    assert receiver in msg.history\n",
    "    # assert len(msg.history) == i + 1"
   ]
  },
  {
   "cell_type": "code",
   "execution_count": 9,
   "id": "28434cdf",
   "metadata": {},
   "outputs": [
    {
     "ename": "NameError",
     "evalue": "name 'protocol' is not defined",
     "output_type": "error",
     "traceback": [
      "\u001b[0;31m---------------------------------------------------------------------------\u001b[0m",
      "\u001b[0;31mNameError\u001b[0m                                 Traceback (most recent call last)",
      "Cell \u001b[0;32mIn[9], line 1\u001b[0m\n\u001b[0;32m----> 1\u001b[0m sim \u001b[38;5;241m=\u001b[39m Simulator(\u001b[43mprotocol\u001b[49m, adv, \u001b[38;5;241m1\u001b[39m, \u001b[38;5;28;01mTrue\u001b[39;00m)\n\u001b[1;32m      2\u001b[0m sim\u001b[38;5;241m.\u001b[39mrun(\u001b[38;5;241m1.0\u001b[39m)\n\u001b[1;32m      3\u001b[0m \u001b[38;5;28;01mfor\u001b[39;00m estimator \u001b[38;5;129;01min\u001b[39;00m [\u001b[38;5;124m\"\u001b[39m\u001b[38;5;124mfirst_reach\u001b[39m\u001b[38;5;124m\"\u001b[39m, \u001b[38;5;124m\"\u001b[39m\u001b[38;5;124mfirst_sent\u001b[39m\u001b[38;5;124m\"\u001b[39m]:\n",
      "\u001b[0;31mNameError\u001b[0m: name 'protocol' is not defined"
     ]
    }
   ],
   "source": [
    "sim = Simulator(protocol, adv, 1, True)\n",
    "sim.run(1.0)\n",
    "for estimator in [\"first_reach\", \"first_sent\"]:\n",
    "    evaluator = Evaluator(sim, estimator)\n",
    "    results = [\n",
    "        evaluator.exact_hits,\n",
    "        evaluator.ranks,\n",
    "        evaluator.inverse_ranks,\n",
    "        evaluator.entropies,\n",
    "    ]\n",
    "    for i in results:\n",
    "        print(estimator, i)"
   ]
  },
  {
   "cell_type": "code",
   "execution_count": 10,
   "id": "400ce820",
   "metadata": {},
   "outputs": [
    {
     "name": "stdout",
     "output_type": "stream",
     "text": [
      "[{'estimator': 'first_reach', 'hit_ratio': 0.0, 'inverse_rank': 0.5, 'entropy': 0.0, 'ndcg': 0.6309297535714575, 'message_spread_ratio': 1.0, 'mean_contact_time_quantiles': [0.18000000000000002, 0.36000000000000004, 0.54, 0.7200000000000001, 0.9, 1.07, 1.2400000000000002, 1.4100000000000001, 1.58], 'std_contact_time_quantiles': [0.0, 0.0, 0.0, 0.0, 0.0, 0.0, 0.0, 0.0, 0.0], 'adversary': 'Adversary(ratio=0.33, active=False, use_node_weights=False)', 'protocol': 'BroadcastProtocol(broadcast_mode=all)', 'network': 'Network(nw_mode=random, ew_mode=custom, num_nodes=3, k=-1)'}, {'estimator': 'first_sent', 'hit_ratio': 0.0, 'inverse_rank': 0.5, 'entropy': 0.0, 'ndcg': 0.6309297535714575, 'message_spread_ratio': 1.0, 'mean_contact_time_quantiles': [0.18000000000000002, 0.36000000000000004, 0.54, 0.7200000000000001, 0.9, 1.07, 1.2400000000000002, 1.4100000000000001, 1.58], 'std_contact_time_quantiles': [0.0, 0.0, 0.0, 0.0, 0.0, 0.0, 0.0, 0.0, 0.0], 'adversary': 'Adversary(ratio=0.33, active=False, use_node_weights=False)', 'protocol': 'BroadcastProtocol(broadcast_mode=all)', 'network': 'Network(nw_mode=random, ew_mode=custom, num_nodes=3, k=-1)'}]\n"
     ]
    }
   ],
   "source": [
    "rnd_node_weight = NodeWeightGenerator(\"random\")\n",
    "rnd_edge_weight = EdgeWeightGenerator(\"random\")\n",
    "G = nx.DiGraph()\n",
    "G.add_nodes_from([1, 2, 3])\n",
    "G.add_weighted_edges_from([(1, 2, 0.9), (1, 3, 1.84), (2, 3, 0.85)], weight=\"latency\")\n",
    "\n",
    "net = Network(rnd_node_weight, EdgeWeightGenerator(\"custom\"), graph=G)\n",
    "protocol = BroadcastProtocol(net, \"all\", seed=44)\n",
    "adv = Adversary(protocol, ratio=0.0, adversaries=[3])\n",
    "sim = Simulator(adv, 1, messages=[Message(1)])\n",
    "\n",
    "assert 3 in sim.adversary.nodes\n",
    "assert len(sim.messages)==1\n",
    "\n",
    "new_reports = run_and_eval(sim)\n",
    "\n",
    "sim.messages[0].flush_queue(sim.adversary)\n",
    "\n",
    "print(new_reports)\n",
    "assert sim.adversary.predict_msg_source(\"first_sent\").iloc[0][1]==1\n",
    "assert sim.adversary.predict_msg_source(\"first_reach\").iloc[0][2]==1"
   ]
  },
  {
   "cell_type": "code",
   "execution_count": 7,
   "id": "255bf345",
   "metadata": {},
   "outputs": [],
   "source": [
    "### Dandelion adversary in the making\n",
    "H = nx.complete_graph(10)\n",
    "rnd_node_weight = NodeWeightGenerator(\"random\")\n",
    "rnd_edge_weight = EdgeWeightGenerator(\"random\")\n",
    "SEED = 43\n",
    "net = Network(\n",
    "    rnd_node_weight, EdgeWeightGenerator(\"unweighted\"), graph=H, seed=SEED\n",
    ")\n",
    "protocol = DandelionProtocol(net, 1 / 4, broadcast_mode=\"all\", seed=SEED)\n",
    "adv = Adversary(protocol, 0.2)\n",
    "msg = Message(0)"
   ]
  },
  {
   "cell_type": "code",
   "execution_count": 9,
   "id": "92f66fe4",
   "metadata": {},
   "outputs": [
    {
     "data": {
      "image/png": "[encoded data removed]",
      "text/plain": [
       "<Figure size 640x480 with 1 Axes>"
      ]
     },
     "metadata": {},
     "output_type": "display_data"
    }
   ],
   "source": [
    "nx.draw(protocol.anonymity_graph)"
   ]
  },
  {
   "cell_type": "code",
   "execution_count": null,
   "id": "9f3feccb",
   "metadata": {},
   "outputs": [],
   "source": []
  }
 ],
 "metadata": {
  "kernelspec": {
   "display_name": "Python 3 (ipykernel)",
   "language": "python",
   "name": "python3"
  },
  "language_info": {
   "codemirror_mode": {
    "name": "ipython",
    "version": 3
   },
   "file_extension": ".py",
   "mimetype": "text/x-python",
   "name": "python",
   "nbconvert_exporter": "python",
   "pygments_lexer": "ipython3",
   "version": "3.9.12"
  }
 },
 "nbformat": 4,
 "nbformat_minor": 5
}
