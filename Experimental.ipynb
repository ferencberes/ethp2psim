{
 "cells": [
  {
   "cell_type": "code",
   "execution_count": 1,
   "id": "165e944e-c63c-491e-920c-66979d4666fe",
   "metadata": {},
   "outputs": [],
   "source": [
    "import networkx as nx\n",
    "import matplotlib.pyplot as plt\n",
    "import numpy as np"
   ]
  },
  {
   "cell_type": "code",
   "execution_count": 2,
   "id": "a8f771e6-18a2-4591-81a4-3467dd11e738",
   "metadata": {},
   "outputs": [
    {
     "name": "stderr",
     "output_type": "stream",
     "text": [
      "/home/fberes/.conda/envs/ethsim/lib/python3.8/site-packages/tqdm/auto.py:22: TqdmWarning: IProgress not found. Please update jupyter and ipywidgets. See https://ipywidgets.readthedocs.io/en/stable/user_install.html\n",
      "  from .autonotebook import tqdm as notebook_tqdm\n"
     ]
    }
   ],
   "source": [
    "import sys\n",
    "sys.path.insert(0, \"python\")\n",
    "from network import *\n",
    "from protocols import *\n",
    "from adversary import *\n",
    "from simulator import *"
   ]
  },
  {
   "cell_type": "code",
   "execution_count": 8,
   "id": "ea943f3f-3baa-4207-a014-ea7775e5a338",
   "metadata": {},
   "outputs": [
    {
     "data": {
      "text/plain": [
       "1"
      ]
     },
     "execution_count": 8,
     "metadata": {},
     "output_type": "execute_result"
    }
   ],
   "source": [
    "a = [1,2,3]\n",
    "a.pop(0)"
   ]
  },
  {
   "cell_type": "code",
   "execution_count": 10,
   "id": "519d8882-723c-4ef6-abbf-51a0ff6a35dc",
   "metadata": {},
   "outputs": [
    {
     "data": {
      "text/plain": [
       "<networkx.classes.graph.Graph at 0x7fd878b8fd60>"
      ]
     },
     "execution_count": 10,
     "metadata": {},
     "output_type": "execute_result"
    }
   ],
   "source": [
    "G.copy()"
   ]
  },
  {
   "cell_type": "code",
   "execution_count": 3,
   "id": "eee0cd8a-7fd4-43ee-b154-38162724243a",
   "metadata": {},
   "outputs": [
    {
     "data": {
      "text/plain": [
       "EdgeDataView([(1, 2, {'latency': 0.3}), (1, 3, {'latency': 0.4}), (3, 4, {'latency': 0.1})])"
      ]
     },
     "execution_count": 3,
     "metadata": {},
     "output_type": "execute_result"
    }
   ],
   "source": [
    "G = nx.Graph()\n",
    "G.add_weighted_edges_from([(1,2,0.3),(1,3,0.4),(3,4,0.1)], weight=\"latency\")\n",
    "G.edges(data=True)"
   ]
  },
  {
   "cell_type": "code",
   "execution_count": 4,
   "id": "4bdd90ec-544c-41f0-b3a0-0d5d7cfaa63f",
   "metadata": {},
   "outputs": [
    {
     "name": "stdout",
     "output_type": "stream",
     "text": [
      "{(1, 2): 0.3, (1, 3): 0.4, (3, 4): 0.1}\n"
     ]
    },
    {
     "data": {
      "text/plain": [
       "EdgeDataView([(1, 2, {'latency': 0.3}), (1, 3, {'latency': 0.4}), (3, 4, {'latency': 0.1})])"
      ]
     },
     "execution_count": 4,
     "metadata": {},
     "output_type": "execute_result"
    }
   ],
   "source": [
    "net = Network(graph=G, edge_weight=\"custom\")\n",
    "net.graph.edges(data=True)"
   ]
  },
  {
   "cell_type": "code",
   "execution_count": 5,
   "id": "0272c6ae-220f-48c3-852e-3e5d4a08ae6e",
   "metadata": {},
   "outputs": [
    {
     "data": {
      "text/plain": [
       "{(1, 2): 0.3, (1, 3): 0.4, (3, 4): 0.1}"
      ]
     },
     "execution_count": 5,
     "metadata": {},
     "output_type": "execute_result"
    }
   ],
   "source": [
    "net.edge_weights"
   ]
  },
  {
   "cell_type": "markdown",
   "id": "4ef52ef0-7d31-4e21-ba9e-ecd8defc24bb",
   "metadata": {},
   "source": [
    "# Priority queue"
   ]
  },
  {
   "cell_type": "code",
   "execution_count": null,
   "id": "f3216b1c-573a-4e0d-9bd7-c2291179f159",
   "metadata": {},
   "outputs": [],
   "source": [
    "from queue import PriorityQueue\n",
    "pq = PriorityQueue(10)"
   ]
  },
  {
   "cell_type": "code",
   "execution_count": null,
   "id": "8fce9d19-644d-4284-b756-f591edd13b49",
   "metadata": {},
   "outputs": [],
   "source": [
    "pq.put((2,\"a\"))"
   ]
  },
  {
   "cell_type": "code",
   "execution_count": null,
   "id": "dd250a15-0ba8-40c3-82e6-366951cca6db",
   "metadata": {},
   "outputs": [],
   "source": [
    "pq.put((3,\"b\"))"
   ]
  },
  {
   "cell_type": "code",
   "execution_count": null,
   "id": "36c04097-efa8-4546-968c-4870dd5ce1fd",
   "metadata": {},
   "outputs": [],
   "source": [
    "pq.put((1,\"c\"))"
   ]
  },
  {
   "cell_type": "code",
   "execution_count": null,
   "id": "9c717ae5-2636-455c-9b05-633a39e49465",
   "metadata": {},
   "outputs": [],
   "source": [
    "pq.queue"
   ]
  },
  {
   "cell_type": "code",
   "execution_count": null,
   "id": "b2a911e7-7f57-4fb3-af12-dc43ceb66a79",
   "metadata": {},
   "outputs": [],
   "source": [
    "pq.put((1,\"b\"))"
   ]
  },
  {
   "cell_type": "code",
   "execution_count": null,
   "id": "3b53b020-0bc7-4f85-ad50-c316f1e0053c",
   "metadata": {},
   "outputs": [],
   "source": [
    "pq.get()"
   ]
  },
  {
   "cell_type": "markdown",
   "id": "487965c1-4a45-4e89-b028-0f74a80389c1",
   "metadata": {},
   "source": [
    "# Dandelion example"
   ]
  },
  {
   "cell_type": "code",
   "execution_count": null,
   "id": "1a16a9d4-0766-4913-98fa-8921ada4d2aa",
   "metadata": {},
   "outputs": [],
   "source": [
    "net = Network(400, 40, edge_weight=\"unweighted\")"
   ]
  },
  {
   "cell_type": "code",
   "execution_count": null,
   "id": "6eee4f4e-c8f2-4537-b646-340cd4748833",
   "metadata": {},
   "outputs": [],
   "source": [
    "dp = DandelionProtocol(net, 0.1)"
   ]
  },
  {
   "cell_type": "code",
   "execution_count": null,
   "id": "fa55739b-486c-4ec6-9204-1d010203d5ff",
   "metadata": {},
   "outputs": [],
   "source": [
    "nx.draw(dp.line_graph, node_size=20)"
   ]
  },
  {
   "cell_type": "code",
   "execution_count": null,
   "id": "32455f09-f154-411d-b4b5-84d48cbad05f",
   "metadata": {},
   "outputs": [],
   "source": [
    "adv = Adversary(net, 0.1)\n",
    "sim = Simulator(dp, adv, 10, verbose=False)\n",
    "sim.run(coverage_threshold=0.95)"
   ]
  },
  {
   "cell_type": "code",
   "execution_count": null,
   "id": "74206e35-7ba1-4b23-8f8b-4bedbaad08f3",
   "metadata": {},
   "outputs": [],
   "source": [
    "%%time\n",
    "evaluator = Evaluator(sim, \"first_reach\")\n",
    "print(evaluator.get_report())"
   ]
  },
  {
   "cell_type": "code",
   "execution_count": null,
   "id": "513b4f8b-6d3b-4544-9c5c-9dd45730db11",
   "metadata": {},
   "outputs": [],
   "source": [
    "%%time\n",
    "evaluator = Evaluator(sim, \"shortest_path\")\n",
    "print(evaluator.get_report())"
   ]
  },
  {
   "cell_type": "code",
   "execution_count": null,
   "id": "b694d0af-5777-4b5e-b441-4908a68f558a",
   "metadata": {},
   "outputs": [],
   "source": [
    "%%time\n",
    "evaluator = Evaluator(sim, \"dummy\")\n",
    "print(evaluator.get_report())"
   ]
  },
  {
   "cell_type": "code",
   "execution_count": null,
   "id": "fc4d9f68-56a9-4796-86d5-3296391f1aa4",
   "metadata": {},
   "outputs": [],
   "source": [
    "alma"
   ]
  },
  {
   "cell_type": "markdown",
   "id": "f57a9ecb-395b-4b9f-9d0a-6ea39cc75ecb",
   "metadata": {},
   "source": [
    "# Experiment example"
   ]
  },
  {
   "cell_type": "code",
   "execution_count": null,
   "id": "bed24285-40ae-4b71-b01d-9cbe5b735413",
   "metadata": {},
   "outputs": [],
   "source": [
    "def run_and_eval(net: Network, adv: Adversary, protocol: Protocol):\n",
    "    sim = Simulator(protocol, adv, int(network_size / 10), verbose=False)\n",
    "    sim.run()\n",
    "    evaluator = Evaluator(sim)\n",
    "    report = evaluator.get_report()\n",
    "    report[\"protocol\"] = str(protocol)\n",
    "    report[\"adversary_ratio\"] = adv.ratio\n",
    "    return report"
   ]
  },
  {
   "cell_type": "code",
   "execution_count": null,
   "id": "a325d314-a045-4b94-b099-adec320a464d",
   "metadata": {},
   "outputs": [],
   "source": [
    "network_size = 1000\n",
    "degree = 50\n",
    "num_trials = 10\n",
    "adversary_ratios = [0.01,0.025,0.05,0.075,0.1]\n",
    "results = []"
   ]
  },
  {
   "cell_type": "code",
   "execution_count": null,
   "id": "b9d70cd2-3846-491b-b2c3-a29a37445cac",
   "metadata": {},
   "outputs": [],
   "source": [
    "%%time\n",
    "# it could be parallelized\n",
    "for adv_ratio in adversary_ratios:\n",
    "    for _ in range(num_trials):\n",
    "        # this part cannot be parallelized: it is important that different protocols will be evaluated with the same network and adversary setting\n",
    "        net = Network(network_size, degree)\n",
    "        adv = Adversary(net, adv_ratio)\n",
    "        # BUT: messages won't be the same!!!\n",
    "        results.append(run_and_eval(net, adv, BroadcastProtocol(net)))\n",
    "        results.append(run_and_eval(net, adv, DandelionProtocol(net, 0.5)))\n",
    "        results.append(run_and_eval(net, adv, DandelionProtocol(net, 0.25)))\n",
    "    print(adv_ratio)"
   ]
  },
  {
   "cell_type": "code",
   "execution_count": null,
   "id": "05812234-7cc1-403e-a570-5cb8061d0f89",
   "metadata": {},
   "outputs": [],
   "source": [
    "import seaborn as sns"
   ]
  },
  {
   "cell_type": "code",
   "execution_count": null,
   "id": "c344632b-1ba5-4861-a782-6f870c22c587",
   "metadata": {},
   "outputs": [],
   "source": [
    "results_df = pd.DataFrame(results)\n",
    "results_df.head()"
   ]
  },
  {
   "cell_type": "markdown",
   "id": "2533238c-fb69-4e7e-a4fb-60b6e6972418",
   "metadata": {},
   "source": [
    "### Dummy adversary predicts message source for Dandelion much worse than in case of ismple broadcasting"
   ]
  },
  {
   "cell_type": "code",
   "execution_count": null,
   "id": "e0a3d5b2-ccb9-4fe9-abe1-21eb7c1a957f",
   "metadata": {},
   "outputs": [],
   "source": [
    "fig, ax = plt.subplots(2,2, figsize=(15,15))\n",
    "sns.boxplot(data=results_df, x=\"adversary_ratio\", y=\"hit_ratio\", hue=\"protocol\", ax=ax[0][0])\n",
    "sns.boxplot(data=results_df, x=\"adversary_ratio\", y=\"inverse_rank\", hue=\"protocol\", ax=ax[0][1])\n",
    "sns.boxplot(data=results_df, x=\"adversary_ratio\", y=\"ndcg\", hue=\"protocol\", ax=ax[1][0])\n",
    "sns.boxplot(data=results_df, x=\"adversary_ratio\", y=\"entropy\", hue=\"protocol\", ax=ax[1][1])"
   ]
  },
  {
   "cell_type": "markdown",
   "id": "6287a527-9328-4085-8095-31ff3a333f3e",
   "metadata": {},
   "source": [
    "### While the fraction of nodes reached by messages are the same range for all protocols"
   ]
  },
  {
   "cell_type": "code",
   "execution_count": null,
   "id": "4e796284-d517-4cff-b702-5da627a38790",
   "metadata": {},
   "outputs": [],
   "source": [
    "fig, ax = plt.subplots(1,1, figsize=(10,6))\n",
    "sns.boxplot(data=results_df, x=\"adversary_ratio\", y=\"message_spread_ratio\", hue=\"protocol\", ax=ax)"
   ]
  }
 ],
 "metadata": {
  "kernelspec": {
   "display_name": "Python 3 (ipykernel)",
   "language": "python",
   "name": "python3"
  },
  "language_info": {
   "codemirror_mode": {
    "name": "ipython",
    "version": 3
   },
   "file_extension": ".py",
   "mimetype": "text/x-python",
   "name": "python",
   "nbconvert_exporter": "python",
   "pygments_lexer": "ipython3",
   "version": "3.8.13"
  }
 },
 "nbformat": 4,
 "nbformat_minor": 5
}
