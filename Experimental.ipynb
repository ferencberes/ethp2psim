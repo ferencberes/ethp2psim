{
 "cells": [
  {
   "cell_type": "code",
   "execution_count": 1,
   "id": "165e944e-c63c-491e-920c-66979d4666fe",
   "metadata": {},
   "outputs": [],
   "source": [
    "import networkx as nx\n",
    "import matplotlib.pyplot as plt\n",
    "import seaborn as sns\n",
    "import numpy as np"
   ]
  },
  {
   "cell_type": "code",
   "execution_count": 2,
   "id": "a8f771e6-18a2-4591-81a4-3467dd11e738",
   "metadata": {},
   "outputs": [],
   "source": [
    "import sys\n",
    "\n",
    "sys.path.insert(0, \"python\")\n",
    "from network import *\n",
    "from protocols import *\n",
    "from adversary import *\n",
    "from simulator import *\n",
    "from experiments import run_and_eval, run_experiment"
   ]
  },
  {
   "cell_type": "code",
   "execution_count": 3,
   "id": "e5a1930a-43e7-45cb-891e-d6c893a579c3",
   "metadata": {},
   "outputs": [],
   "source": [
    "def shorten_protocol_name(x: str):\n",
    "    val = x.replace(\"Protocol\", \"\").replace(\"spreading_proba\", \"p\")\n",
    "    val = val.split(\"broadcast\")[0][:-1].replace(\"(\", \": \")\n",
    "    if val[-1] == \",\":\n",
    "        val = val[:-1]\n",
    "    return val"
   ]
  },
  {
   "cell_type": "code",
   "execution_count": 4,
   "id": "73b2f9a3-9208-4737-80bf-a39133f54600",
   "metadata": {},
   "outputs": [],
   "source": [
    "nw_generator = NodeWeightGenerator(\"random\")\n",
    "ew_generator = EdgeWeightGenerator(\"normal\")"
   ]
  },
  {
   "cell_type": "markdown",
   "id": "487965c1-4a45-4e89-b028-0f74a80389c1",
   "metadata": {},
   "source": [
    "# Dandelion example"
   ]
  },
  {
   "cell_type": "markdown",
   "id": "319db48c-7bab-42af-8801-a04a1ff95183",
   "metadata": {},
   "source": [
    "net = Network(nw_generator, ew_generator, num_nodes=1000, k=20)"
   ]
  },
  {
   "cell_type": "code",
   "execution_count": 26,
   "id": "21bcacf9-ac46-4055-b013-246a3ba88769",
   "metadata": {},
   "outputs": [],
   "source": [
    "net = Network(nw_generator, ew_generator, num_nodes=10, k=2)"
   ]
  },
  {
   "cell_type": "code",
   "execution_count": 27,
   "id": "a073474c-41a1-4013-ada2-3904839793e7",
   "metadata": {},
   "outputs": [
    {
     "data": {
      "text/plain": [
       "2.0"
      ]
     },
     "execution_count": 27,
     "metadata": {},
     "output_type": "execute_result"
    }
   ],
   "source": [
    "np.mean(list(dict(net.graph.degree).values()))"
   ]
  },
  {
   "cell_type": "code",
   "execution_count": 28,
   "id": "a27142f9-f63c-471e-a66d-2077b2aa9e8e",
   "metadata": {},
   "outputs": [],
   "source": [
    "tor = TOREnhancedProtocol(net, 2, 1, broadcast_mode=\"all\")"
   ]
  },
  {
   "cell_type": "code",
   "execution_count": 29,
   "id": "6b5b1219-b0bf-4018-9ba9-0a17fd86346c",
   "metadata": {},
   "outputs": [
    {
     "data": {
      "text/plain": [
       "6.0"
      ]
     },
     "execution_count": 29,
     "metadata": {},
     "output_type": "execute_result"
    }
   ],
   "source": [
    "np.mean(list(dict(net.graph.degree).values()))"
   ]
  },
  {
   "cell_type": "code",
   "execution_count": 30,
   "id": "ff2eb721-ba6c-4ae5-aaa6-efc4d054e14a",
   "metadata": {},
   "outputs": [
    {
     "data": {
      "text/plain": [
       "{3: [[9, 6], [2, 9]],\n",
       " 4: [[3, 8], [5, 2]],\n",
       " 1: [[6, 4], [6, 5]],\n",
       " 8: [[0, 4], [3, 9]],\n",
       " 0: [[2, 4], [4, 2]],\n",
       " 9: [[2, 6], [1, 4]],\n",
       " 2: [[4, 6], [4, 9]],\n",
       " 6: [[7, 4], [0, 4]],\n",
       " 5: [[8, 9], [6, 0]],\n",
       " 7: [[5, 0], [8, 9]]}"
      ]
     },
     "execution_count": 30,
     "metadata": {},
     "output_type": "execute_result"
    }
   ],
   "source": [
    "tor.tor_network"
   ]
  },
  {
   "cell_type": "code",
   "execution_count": 31,
   "id": "d5a98159-e48d-4b65-8292-cc4dd8fc5beb",
   "metadata": {},
   "outputs": [],
   "source": [
    "msg = Message(0)\n",
    "adv = Adversary(net, 0.1)"
   ]
  },
  {
   "cell_type": "code",
   "execution_count": 41,
   "id": "481fdd8f-97d0-4bcd-9f59-0217a921e6c3",
   "metadata": {},
   "outputs": [
    {
     "data": {
      "text/plain": [
       "[ProtocolEvent(4, 1, 457.458594, 3, None),\n",
       " ProtocolEvent(4, 2, 500.353045, 2, [2]),\n",
       " ProtocolEvent(4, 5, 514.206770, 3, None),\n",
       " ProtocolEvent(4, 9, 500.697674, 3, None),\n",
       " ProtocolEvent(4, 6, 709.783482, 3, None),\n",
       " ProtocolEvent(4, 7, 619.352473, 3, None),\n",
       " ProtocolEvent(4, 0, 682.686854, 3, None),\n",
       " ProtocolEvent(4, 3, 646.384819, 3, None)]"
      ]
     },
     "execution_count": 41,
     "metadata": {},
     "output_type": "execute_result"
    }
   ],
   "source": [
    "msg.queue"
   ]
  },
  {
   "cell_type": "code",
   "execution_count": 42,
   "id": "aba5ba8e-0227-4b78-9304-b5ddfa5236e6",
   "metadata": {},
   "outputs": [
    {
     "name": "stdout",
     "output_type": "stream",
     "text": [
      "ProtocolEvent(4, 1, 457.458594, 3, None)\n"
     ]
    },
    {
     "data": {
      "text/plain": [
       "(0.4, True, False)"
      ]
     },
     "execution_count": 42,
     "metadata": {},
     "output_type": "execute_result"
    }
   ],
   "source": [
    "msg.process(tor, adv)"
   ]
  },
  {
   "cell_type": "code",
   "execution_count": 43,
   "id": "f03455d2-8332-46b0-b734-d9dd90257a29",
   "metadata": {},
   "outputs": [
    {
     "data": {
      "text/plain": [
       "[8, 3, 9, 6, 4]"
      ]
     },
     "execution_count": 43,
     "metadata": {},
     "output_type": "execute_result"
    }
   ],
   "source": [
    "list(net.graph.neighbors(1))"
   ]
  },
  {
   "cell_type": "code",
   "execution_count": 9,
   "id": "652ebc5c-60e1-40b6-9a5a-c68ebf951a51",
   "metadata": {},
   "outputs": [
    {
     "ename": "NameError",
     "evalue": "name 'alma' is not defined",
     "output_type": "error",
     "traceback": [
      "\u001b[0;31m---------------------------------------------------------------------------\u001b[0m",
      "\u001b[0;31mNameError\u001b[0m                                 Traceback (most recent call last)",
      "Cell \u001b[0;32mIn[9], line 1\u001b[0m\n\u001b[0;32m----> 1\u001b[0m \u001b[43malma\u001b[49m\n",
      "\u001b[0;31mNameError\u001b[0m: name 'alma' is not defined"
     ]
    }
   ],
   "source": [
    "alma"
   ]
  },
  {
   "cell_type": "code",
   "execution_count": null,
   "id": "6eee4f4e-c8f2-4537-b646-340cd4748833",
   "metadata": {},
   "outputs": [],
   "source": [
    "dp = DandelionProtocol(net, 0.5)"
   ]
  },
  {
   "cell_type": "markdown",
   "id": "43233dcb-c096-485b-8590-6cb805fe0253",
   "metadata": {},
   "source": [
    "dp = DandelionPlusPlusProtocol(net, 0.5)"
   ]
  },
  {
   "cell_type": "markdown",
   "id": "23a115b3-e475-4963-b7f6-e543e9a7bc43",
   "metadata": {},
   "source": [
    "nx.draw(dp.anonymity_graph, node_size=20)"
   ]
  },
  {
   "cell_type": "code",
   "execution_count": null,
   "id": "32455f09-f154-411d-b4b5-84d48cbad05f",
   "metadata": {},
   "outputs": [],
   "source": [
    "%%time\n",
    "adv = Adversary(net, 0.1)\n",
    "sim = Simulator(dp, adv, 30, verbose=False)\n",
    "sim.run()"
   ]
  },
  {
   "cell_type": "code",
   "execution_count": null,
   "id": "74206e35-7ba1-4b23-8f8b-4bedbaad08f3",
   "metadata": {},
   "outputs": [],
   "source": [
    "%%time\n",
    "evaluator = Evaluator(sim, \"first_reach\")\n",
    "print(evaluator.get_report())"
   ]
  },
  {
   "cell_type": "code",
   "execution_count": null,
   "id": "513b4f8b-6d3b-4544-9c5c-9dd45730db11",
   "metadata": {},
   "outputs": [],
   "source": [
    "%%time\n",
    "evaluator = Evaluator(sim, \"first_sent\")\n",
    "print(evaluator.get_report())"
   ]
  },
  {
   "cell_type": "code",
   "execution_count": null,
   "id": "b694d0af-5777-4b5e-b441-4908a68f558a",
   "metadata": {},
   "outputs": [],
   "source": [
    "%%time\n",
    "evaluator = Evaluator(sim, \"dummy\")\n",
    "print(evaluator.get_report())"
   ]
  },
  {
   "cell_type": "markdown",
   "id": "d63f7ee3-4aae-441e-b456-e31e50c73860",
   "metadata": {},
   "source": [
    "# Spreading time experiment"
   ]
  },
  {
   "cell_type": "code",
   "execution_count": null,
   "id": "dae60371-b86c-481a-9c86-531f07013f42",
   "metadata": {},
   "outputs": [],
   "source": [
    "%%time\n",
    "bc_mode = \"sqrt\"\n",
    "net = Network(nw_generator, ew_generator, num_nodes=100, k=10)\n",
    "print(net.num_nodes)\n",
    "protocols = [\n",
    "    DandelionProtocol(net, 0.5, broadcast_mode=bc_mode),\n",
    "    DandelionProtocol(net, 0.25, broadcast_mode=bc_mode),\n",
    "    DandelionPlusPlusProtocol(net, 0.5, broadcast_mode=bc_mode),\n",
    "    DandelionPlusPlusProtocol(net, 0.25, broadcast_mode=bc_mode),\n",
    "    BroadcastProtocol(net, broadcast_mode=bc_mode),\n",
    "]\n",
    "\n",
    "for protocol in protocols:\n",
    "    sim = Simulator(protocol, adv, 10, verbose=False)\n",
    "    msg_cov = sim.run(coverage_threshold=1.0)\n",
    "    # print(msg_cov)\n",
    "    print(np.mean(msg_cov))\n",
    "    x = np.arange(0.1, 1.0, 0.1)\n",
    "    mean_quantiles, std_quantiles = sim.node_contact_time_quantiles(x)\n",
    "    name = (\n",
    "        shorten_protocol_name(str(protocol))\n",
    "        if not \"Broadcast\" in str(protocol)\n",
    "        else str(protocol)\n",
    "    )\n",
    "    plt.plot(x, mean_quantiles, label=name)\n",
    "plt.legend()\n",
    "plt.ylabel(\"time (ms)\")\n",
    "plt.xlabel(\"quantiles\")"
   ]
  },
  {
   "cell_type": "markdown",
   "id": "6553ef75-ec39-4f8c-9443-12a75d995262",
   "metadata": {},
   "source": [
    "# Unittest in the making"
   ]
  },
  {
   "cell_type": "code",
   "execution_count": null,
   "id": "7a116c09",
   "metadata": {},
   "outputs": [],
   "source": [
    "import sys, os, pytest\n",
    "\n",
    "sys.path.insert(0, \"%s/python\" % os.getcwd())\n",
    "import networkx as nx\n",
    "from network import Network, NodeWeightGenerator, EdgeWeightGenerator\n",
    "from simulator import Simulator, Evaluator\n",
    "from message import Message\n",
    "from protocols import BroadcastProtocol, DandelionProtocol, DandelionPlusPlusProtocol\n",
    "from adversary import Adversary"
   ]
  },
  {
   "cell_type": "code",
   "execution_count": null,
   "id": "7a8f79c8-14f8-4c28-97af-49c8b3d52ebc",
   "metadata": {},
   "outputs": [],
   "source": [
    "### First sent vs First reach test\n",
    "rnd_node_weight = NodeWeightGenerator(\"random\")\n",
    "rnd_edge_weight = EdgeWeightGenerator(\"random\")\n",
    "G = nx.DiGraph()\n",
    "G.add_nodes_from([1, 2, 3])\n",
    "G.add_weighted_edges_from([(1, 2, 0.9), (1, 3, 1.84), (2, 3, 1.01)], weight=\"latency\")\n",
    "print(nx.draw(G, with_labels=True))\n",
    "net = Network(rnd_node_weight, EdgeWeightGenerator(\"custom\"), graph=G)\n",
    "protocol = BroadcastProtocol(net, seed=44)\n",
    "adv = Adversary(net, ratio=0.0, adversaries=[2])\n",
    "print(adv.nodes)\n",
    "assert 3 in adv.nodes\n",
    "\n",
    "# start a message from Node 1\n",
    "msg = Message(1)\n",
    "receiver_order = [1, 2, 2, 2]\n",
    "for i, receiver in enumerate(receiver_order):\n",
    "    msg.process(protocol, adv)\n",
    "    print(i, receiver, msg.history)\n",
    "    assert receiver in msg.history\n",
    "    # assert len(msg.history) == i + 1"
   ]
  },
  {
   "cell_type": "code",
   "execution_count": null,
   "id": "28434cdf",
   "metadata": {},
   "outputs": [],
   "source": [
    "sim = Simulator(protocol, adv, 1, True)\n",
    "sim.run(1.0)\n",
    "for estimator in [\"first_reach\", \"first_sent\"]:\n",
    "    evaluator = Evaluator(sim, estimator)\n",
    "    results = [\n",
    "        evaluator.exact_hits,\n",
    "        evaluator.ranks,\n",
    "        evaluator.inverse_ranks,\n",
    "        evaluator.entropies,\n",
    "    ]\n",
    "    for i in results:\n",
    "        print(estimator, i)"
   ]
  },
  {
   "cell_type": "code",
   "execution_count": null,
   "id": "400ce820",
   "metadata": {},
   "outputs": [],
   "source": [
    "rnd_node_weight = NodeWeightGenerator(\"random\")\n",
    "rnd_edge_weight = EdgeWeightGenerator(\"random\")\n",
    "G = nx.DiGraph()\n",
    "G.add_nodes_from([1, 2, 3])\n",
    "G.add_weighted_edges_from([(1, 2, 0.9), (1, 3, 1.84),(2, 3, 0.85)], weight=\"latency\")\n",
    "\n",
    "net = Network(rnd_node_weight, EdgeWeightGenerator(\"custom\"), graph=G)\n",
    "protocol = BroadcastProtocol(net, seed=44)\n",
    "adv = Adversary(net, ratio=0.0, adversaries=[2])\n",
    "    \n",
    "assert 3 in adv.nodes\n",
    "\n",
    "# start a message from Node 1\n",
    "msg = Message(1)\n",
    "receiver_order = [1, 2, 2, 2, 2]\n",
    "for i, receiver in enumerate(receiver_order):\n",
    "    msg.process(protocol, adv)\n",
    "    assert receiver in msg.history\n",
    "\n",
    "msg.flush_queue(adv)\n",
    "print(msg.queue)\n",
    "print(\"blbalbal\",msg.mid)\n",
    "\n",
    "\n",
    "sim = Simulator(protocol,Adversary(net, ratio=0.0, adversaries=[2]), 1, messages=[Message(1)])\n",
    "#assert adv.predict_msg_source(\"first_sent\")[msg.mid, G.nodes[1]] == 1\n",
    "print(\"First\",adv.predict_msg_source(\"first_sent\"))\n",
    "print(\"Cmon\", adv.predict_msg_source(\"first_reach\"))\n",
    "print(\"Second\",adv.predict_msg_source(\"first_reach\").iloc[0][2])\n",
    "\n"
   ]
  },
  {
   "cell_type": "code",
   "execution_count": null,
   "id": "83fa7980",
   "metadata": {},
   "outputs": [],
   "source": []
  }
 ],
 "metadata": {
  "kernelspec": {
   "display_name": "Python 3 (ipykernel)",
   "language": "python",
   "name": "python3"
  },
  "language_info": {
   "codemirror_mode": {
    "name": "ipython",
    "version": 3
   },
   "file_extension": ".py",
   "mimetype": "text/x-python",
   "name": "python",
   "nbconvert_exporter": "python",
   "pygments_lexer": "ipython3",
   "version": "3.8.15"
  }
 },
 "nbformat": 4,
 "nbformat_minor": 5
}
