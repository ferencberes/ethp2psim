{
 "cells": [
  {
   "cell_type": "code",
   "execution_count": null,
   "id": "165e944e-c63c-491e-920c-66979d4666fe",
   "metadata": {},
   "outputs": [],
   "source": [
    "import networkx as nx\n",
    "import matplotlib.pyplot as plt\n",
    "import seaborn as sns\n",
    "import numpy as np"
   ]
  },
  {
   "cell_type": "code",
   "execution_count": null,
   "id": "a8f771e6-18a2-4591-81a4-3467dd11e738",
   "metadata": {},
   "outputs": [],
   "source": [
    "import sys\n",
    "\n",
    "sys.path.insert(0, \"python\")\n",
    "from network import *\n",
    "from protocols import *\n",
    "from adversary import *\n",
    "from simulator import *\n",
    "from experiments import run_and_eval, run_experiment"
   ]
  },
  {
   "cell_type": "code",
   "execution_count": null,
   "id": "cda903dd-9166-4648-9811-a6447dc42b66",
   "metadata": {},
   "outputs": [],
   "source": [
    "nw_generator = NodeWeightGenerator(\"random\")\n",
    "ew_generator = EdgeWeightGenerator(\"normal\")"
   ]
  },
  {
   "cell_type": "markdown",
   "id": "afb97eb4-c1fe-4476-9efa-a37a707cedbb",
   "metadata": {},
   "source": [
    "rng = np.random.default_rng(32)\n",
    "G = nx.random_regular_graph(3,10,seed=rng)\n",
    "print(list(G.neighbors(0)))\n",
    "nx.draw(G)"
   ]
  },
  {
   "cell_type": "markdown",
   "id": "4e6f3e09-22ef-478a-9fae-7c443e5bb98e",
   "metadata": {},
   "source": [
    "rng = np.random.default_rng(32)\n",
    "rng.choice(G.nodes(), 3)"
   ]
  },
  {
   "cell_type": "markdown",
   "id": "40b4628f-bc58-48ef-a9a1-474a6644c76c",
   "metadata": {},
   "source": [
    "net = Network(nw_generator, ew_generator, num_nodes=1000, k=20)"
   ]
  },
  {
   "cell_type": "markdown",
   "id": "b8ef87c4-b316-4c18-bbb7-c3b16620a4d0",
   "metadata": {},
   "source": [
    "seed = 41\n",
    "net = Network(nw_generator, ew_generator, num_nodes=10, k=2, seed=seed)"
   ]
  },
  {
   "cell_type": "markdown",
   "id": "d46cdd7d-cfdf-41a0-8bd2-53325a357fea",
   "metadata": {},
   "source": [
    "np.mean(list(dict(net.graph.degree).values()))"
   ]
  },
  {
   "cell_type": "markdown",
   "id": "904dcdfa-54c5-481d-adaf-60d0f17b9631",
   "metadata": {},
   "source": [
    "tor = TOREnhancedProtocol(net, 1, 2, broadcast_mode=\"all\", seed=seed)"
   ]
  },
  {
   "cell_type": "markdown",
   "id": "4b9e4768-dc99-4d5c-b0e6-f29f21efd8f1",
   "metadata": {},
   "source": [
    "np.mean(list(dict(net.graph.degree).values()))"
   ]
  },
  {
   "cell_type": "markdown",
   "id": "935c7590-5af2-432e-9a11-cb0463a8eb0e",
   "metadata": {},
   "source": [
    "tor.tor_network"
   ]
  },
  {
   "cell_type": "markdown",
   "id": "3171573b-f9ed-4df3-bb3c-55951544eb4b",
   "metadata": {},
   "source": [
    "msg = Message(0)\n",
    "adv = Adversary(tor, 0.3, seed=seed)"
   ]
  },
  {
   "cell_type": "markdown",
   "id": "364b7eac-fc18-40f8-a788-b12c010e4884",
   "metadata": {},
   "source": [
    "adv.nodes"
   ]
  },
  {
   "cell_type": "markdown",
   "id": "caec86ba-3810-410c-a524-a542da934d92",
   "metadata": {},
   "source": [
    "msg.queue"
   ]
  },
  {
   "cell_type": "markdown",
   "id": "143ec449-fb31-4ce7-85a6-93e967c343f5",
   "metadata": {},
   "source": [
    "msg.process(tor, adv)"
   ]
  },
  {
   "cell_type": "markdown",
   "id": "49f463a1-d517-4eee-bf7f-af24c38d1c11",
   "metadata": {},
   "source": [
    "list(net.graph.neighbors(4))"
   ]
  },
  {
   "cell_type": "markdown",
   "id": "fc4512e8-f9dd-42fd-b454-bb3e9667309e",
   "metadata": {},
   "source": [
    "# Dandelion example with random seed"
   ]
  },
  {
   "cell_type": "code",
   "execution_count": null,
   "id": "e73afaaf-efbe-4105-a56d-79c1e71dbfc7",
   "metadata": {},
   "outputs": [],
   "source": [
    "seed = 42"
   ]
  },
  {
   "cell_type": "code",
   "execution_count": null,
   "id": "98da1a0d-31c6-4664-8ed4-25725b8f7b62",
   "metadata": {},
   "outputs": [],
   "source": [
    "net = Network(nw_generator, ew_generator, num_nodes=100, k=20, seed=seed)\n",
    "dp = DandelionProtocol(net, 0.5, seed=seed)\n",
    "adv = Adversary(dp, 0.1, seed=seed)"
   ]
  },
  {
   "cell_type": "code",
   "execution_count": null,
   "id": "2d9064f3-ee70-44e1-857c-6f0f141c64e2",
   "metadata": {},
   "outputs": [],
   "source": [
    "messages = [\n",
    "        Message(sender)\n",
    "        for sender in net.sample_random_nodes(\n",
    "            10,\n",
    "            replace=True,\n",
    "            use_weights=True,  # random or stake\n",
    "            exclude=adv.nodes,\n",
    "        )\n",
    "]\n",
    "sim = Simulator(adv, messages=messages, seed=seed, verbose=False)"
   ]
  },
  {
   "cell_type": "markdown",
   "id": "e1faf037-3ca8-4e2d-837d-6ee4dd501d5b",
   "metadata": {},
   "source": [
    "sim = Simulator(adv, 10, seed=seed, verbose=False)"
   ]
  },
  {
   "cell_type": "markdown",
   "id": "bf48a6b7-96f7-472a-a727-426141f882e4",
   "metadata": {},
   "source": [
    "from data import GoerliTestnet\n",
    "\n",
    "net = GoerliTestnet()\n",
    "net = Network(nw_generator, ew_generator, graph=net.graph, seed=seed)\n",
    "dp = DandelionProtocol(net, 0.5, seed=seed)\n",
    "#adv_nodes = net.get_central_nodes(int(net.num_nodes*0.1), \"degree\")\n",
    "#adv = Adversary(dp, adversaries=adv_nodes)\n",
    "adv = Adversary(dp, 0.1, seed=seed)\n",
    "sim = Simulator(adv, 10, seed=seed, verbose=False)"
   ]
  },
  {
   "cell_type": "code",
   "execution_count": null,
   "id": "37ba960e-bd1f-44e0-aacd-c54b61cea967",
   "metadata": {},
   "outputs": [],
   "source": [
    "%%time\n",
    "_ = sim.run()"
   ]
  },
  {
   "cell_type": "code",
   "execution_count": null,
   "id": "b8e79149-c55a-4079-adb5-71ba7c5e575a",
   "metadata": {},
   "outputs": [],
   "source": [
    "%%time\n",
    "evaluator = Evaluator(sim, \"first_reach\")\n",
    "print(evaluator.get_report())"
   ]
  },
  {
   "cell_type": "code",
   "execution_count": null,
   "id": "8b726c0c-4b2f-4418-ab5a-c9daa81f7ff0",
   "metadata": {},
   "outputs": [],
   "source": [
    "%%time\n",
    "evaluator = Evaluator(sim, \"first_sent\")\n",
    "print(evaluator.get_report())"
   ]
  },
  {
   "cell_type": "code",
   "execution_count": null,
   "id": "7a19ecf9-d7ef-4c7c-92d0-0ec5b10d3b48",
   "metadata": {},
   "outputs": [],
   "source": [
    "%%time\n",
    "evaluator = Evaluator(sim, \"dummy\")\n",
    "print(evaluator.get_report())"
   ]
  },
  {
   "cell_type": "markdown",
   "id": "6553ef75-ec39-4f8c-9443-12a75d995262",
   "metadata": {},
   "source": [
    "# Unittest in the making"
   ]
  },
  {
   "cell_type": "code",
   "execution_count": null,
   "id": "7a116c09",
   "metadata": {},
   "outputs": [],
   "source": [
    "import sys, os, pytest\n",
    "\n",
    "sys.path.insert(0, \"%s/python\" % os.getcwd())\n",
    "import networkx as nx\n",
    "from network import Network, NodeWeightGenerator, EdgeWeightGenerator\n",
    "from simulator import Simulator, Evaluator\n",
    "from message import Message\n",
    "from protocols import BroadcastProtocol, DandelionProtocol, DandelionPlusPlusProtocol\n",
    "from adversary import Adversary"
   ]
  },
  {
   "cell_type": "code",
   "execution_count": null,
   "id": "7a8f79c8-14f8-4c28-97af-49c8b3d52ebc",
   "metadata": {},
   "outputs": [],
   "source": [
    "### First sent vs First reach test\n",
    "rnd_node_weight = NodeWeightGenerator(\"random\")\n",
    "rnd_edge_weight = EdgeWeightGenerator(\"random\")\n",
    "G = nx.DiGraph()\n",
    "G.add_nodes_from([1, 2, 3])\n",
    "G.add_weighted_edges_from([(1, 2, 0.9), (1, 3, 1.84), (2, 3, 1.01)], weight=\"latency\")\n",
    "print(nx.draw(G, with_labels=True))\n",
    "net = Network(rnd_node_weight, EdgeWeightGenerator(\"custom\"), graph=G)\n",
    "protocol = BroadcastProtocol(net, seed=44, broadcast_mode=\"all\")\n",
    "adv = Adversary(protocol, ratio=0.0, adversaries=[3])\n",
    "print(adv.nodes)\n",
    "assert 3 in adv.nodes\n",
    "\n",
    "# start a message from Node 1\n",
    "msg = Message(1)\n",
    "receiver_order = [1, 2, 2, 2]\n",
    "for i, receiver in enumerate(receiver_order):\n",
    "    msg.process(adv)\n",
    "    print(i, receiver, msg.history)\n",
    "    assert receiver in msg.history\n",
    "    # assert len(msg.history) == i + 1"
   ]
  },
  {
   "cell_type": "code",
   "execution_count": null,
   "id": "28434cdf",
   "metadata": {},
   "outputs": [],
   "source": [
    "sim = Simulator(adv, 1, True)\n",
    "sim.run(1.0)\n",
    "for estimator in [\"first_reach\", \"first_sent\"]:\n",
    "    evaluator = Evaluator(sim, estimator)\n",
    "    results = [\n",
    "        evaluator.exact_hits,\n",
    "        evaluator.ranks,\n",
    "        evaluator.inverse_ranks,\n",
    "        evaluator.entropies,\n",
    "    ]\n",
    "    for i in results:\n",
    "        print(estimator, i)"
   ]
  },
  {
   "cell_type": "code",
   "execution_count": null,
   "id": "400ce820",
   "metadata": {},
   "outputs": [],
   "source": [
    "from experiments import run_and_eval\n",
    "\n",
    "rnd_node_weight = NodeWeightGenerator(\"random\")\n",
    "rnd_edge_weight = EdgeWeightGenerator(\"random\")\n",
    "G = nx.DiGraph()\n",
    "G.add_nodes_from([1, 2, 3])\n",
    "G.add_weighted_edges_from([(1, 2, 0.9), (1, 3, 1.84), (2, 3, 0.85)], weight=\"latency\")\n",
    "\n",
    "net = Network(rnd_node_weight, EdgeWeightGenerator(\"custom\"), graph=G)\n",
    "protocol = BroadcastProtocol(net, \"all\", seed=44)\n",
    "adv = Adversary(protocol, ratio=0.0, adversaries=[3])\n",
    "sim = Simulator(adv, 1, messages=[Message(1)])\n",
    "\n",
    "assert 3 in sim.adversary.nodes\n",
    "assert len(sim.messages)==1\n",
    "\n",
    "new_reports = run_and_eval(sim)\n",
    "\n",
    "sim.messages[0].flush_queue(sim.adversary)\n",
    "\n",
    "print(new_reports)\n",
    "assert sim.adversary.predict_msg_source(\"first_sent\").iloc[0][1]==1\n",
    "assert sim.adversary.predict_msg_source(\"first_reach\").iloc[0][2]==1"
   ]
  },
  {
   "cell_type": "markdown",
   "id": "62da4c5f-8aa1-41a3-b14d-6297dd65ae12",
   "metadata": {},
   "source": [
    "sim.adversary.predict_msg_source(\"first_reach\")"
   ]
  },
  {
   "cell_type": "code",
   "execution_count": null,
   "id": "255bf345",
   "metadata": {},
   "outputs": [],
   "source": [
    "### Dandelion adversary in the making\n",
    "H = nx.complete_graph(10)\n",
    "rnd_node_weight = NodeWeightGenerator(\"random\")\n",
    "rnd_edge_weight = EdgeWeightGenerator(\"random\")\n",
    "SEED = 43\n",
    "net = Network(\n",
    "    rnd_node_weight, EdgeWeightGenerator(\"unweighted\"), graph=H, seed=SEED\n",
    ")\n",
    "protocol = DandelionProtocol(net, 1 / 4, broadcast_mode=\"all\", seed=SEED)\n",
    "adv = Adversary(protocol, 0.2)\n",
    "msg = Message(0)"
   ]
  },
  {
   "cell_type": "code",
   "execution_count": null,
   "id": "92f66fe4",
   "metadata": {},
   "outputs": [],
   "source": [
    "nx.draw(protocol.anonymity_graph)"
   ]
  }
 ],
 "metadata": {
  "kernelspec": {
   "display_name": "Python 3 (ipykernel)",
   "language": "python",
   "name": "python3"
  },
  "language_info": {
   "codemirror_mode": {
    "name": "ipython",
    "version": 3
   },
   "file_extension": ".py",
   "mimetype": "text/x-python",
   "name": "python",
   "nbconvert_exporter": "python",
   "pygments_lexer": "ipython3",
   "version": "3.8.15"
  }
 },
 "nbformat": 4,
 "nbformat_minor": 5
}
