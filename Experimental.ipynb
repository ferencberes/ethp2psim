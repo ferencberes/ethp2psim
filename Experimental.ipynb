{
 "cells": [
  {
   "cell_type": "code",
   "execution_count": 1,
   "id": "165e944e-c63c-491e-920c-66979d4666fe",
   "metadata": {},
   "outputs": [],
   "source": [
    "import networkx as nx\n",
    "import matplotlib.pyplot as plt\n",
    "import numpy as np"
   ]
  },
  {
   "cell_type": "code",
   "execution_count": 2,
   "id": "a8f771e6-18a2-4591-81a4-3467dd11e738",
   "metadata": {},
   "outputs": [],
   "source": [
    "import sys, os, pytest\n",
    "import networkx as nx\n",
    "import pandas as pd\n",
    "\n",
    "from ethp2psim.network import Network, NodeWeightGenerator, EdgeWeightGenerator\n",
    "from ethp2psim.message import Message\n",
    "from ethp2psim.simulator import Simulator, Evaluator\n",
    "from ethp2psim.protocols import (\n",
    "    BroadcastProtocol,\n",
    "    DandelionProtocol,\n",
    "    DandelionPlusPlusProtocol,\n",
    ")\n",
    "from ethp2psim.adversary import Adversary, DandelionAdversary\n",
    "\n",
    "SEED = 43\n",
    "G = nx.Graph()\n",
    "G.add_weighted_edges_from(\n",
    "    [(0, 1, 0.1), (0, 2, 0.5), (0, 3, 0.15), (1, 4, 0.2), (4, 5, 0.1)], weight=\"latency\"\n",
    ")\n",
    "\n",
    "rnd_node_weight = NodeWeightGenerator(\"random\", seed=SEED)\n",
    "rnd_edge_weight = EdgeWeightGenerator(\"random\", seed=SEED)"
   ]
  },
  {
   "cell_type": "markdown",
   "id": "fc4512e8-f9dd-42fd-b454-bb3e9667309e",
   "metadata": {},
   "source": [
    "# Dandelion example with random seed"
   ]
  },
  {
   "cell_type": "code",
   "execution_count": 3,
   "id": "e73afaaf-efbe-4105-a56d-79c1e71dbfc7",
   "metadata": {},
   "outputs": [],
   "source": [
    "seed = 42"
   ]
  },
  {
   "cell_type": "markdown",
   "id": "fcd22309-b1be-4993-ae44-703613329fe7",
   "metadata": {},
   "source": [
    "from data import GoerliTestnet\n",
    "net = GoerliTestnet()\n",
    "net = Network(nw_generator, ew_generator, graph=net.graph, seed=seed)"
   ]
  },
  {
   "cell_type": "code",
   "execution_count": 6,
   "id": "85e905d4-7d46-4dd5-83e8-b13785750eaa",
   "metadata": {},
   "outputs": [],
   "source": [
    "net = Network(rnd_node_weight, rnd_edge_weight, num_nodes=1000, k=50, seed=seed)"
   ]
  },
  {
   "cell_type": "code",
   "execution_count": 7,
   "id": "ace49ec5-0035-40bc-92c5-e498214f66c4",
   "metadata": {},
   "outputs": [],
   "source": [
    "dp = DandelionProtocol(net, 0.5, seed=seed)#, broadcast_mode='all')"
   ]
  },
  {
   "cell_type": "markdown",
   "id": "c2ba7a7a-3d59-4bdf-a649-3785b39097f6",
   "metadata": {},
   "source": [
    "dp = DandelionPlusPlusProtocol(net, 0.5, seed=seed)#, broadcast_mode='all')"
   ]
  },
  {
   "cell_type": "markdown",
   "id": "8d3fa9bb-9383-4521-83af-8bfdfc9b2fb1",
   "metadata": {},
   "source": [
    "nx.draw(dp.anonymity_graph,  with_labels = True)"
   ]
  },
  {
   "cell_type": "markdown",
   "id": "eeedd70b-fb0a-4a84-81b4-f142e791806a",
   "metadata": {},
   "source": [
    "adv = Adversary(dp, 0.1, seed=seed)"
   ]
  },
  {
   "cell_type": "markdown",
   "id": "6e7fb0cc-a107-4ea1-87b1-c0d8480ab387",
   "metadata": {},
   "source": [
    "adv_nodes = net.get_central_nodes(int(net.num_nodes*0.1), \"degree\")\n",
    "adv = Adversary(dp, adversaries=adv_nodes)"
   ]
  },
  {
   "cell_type": "code",
   "execution_count": 8,
   "id": "7ade609f-158f-4347-b2e2-5261d9e1abc7",
   "metadata": {},
   "outputs": [],
   "source": [
    "adv = DandelionAdversary(dp, 0.1, seed=seed)"
   ]
  },
  {
   "cell_type": "code",
   "execution_count": 9,
   "id": "02272031-97f8-4b92-95be-716176f12d47",
   "metadata": {},
   "outputs": [],
   "source": [
    "sim = Simulator(adv, 10, seed=seed, verbose=False)"
   ]
  },
  {
   "cell_type": "code",
   "execution_count": 10,
   "id": "37ba960e-bd1f-44e0-aacd-c54b61cea967",
   "metadata": {},
   "outputs": [
    {
     "name": "stdout",
     "output_type": "stream",
     "text": [
      "CPU times: user 1.51 s, sys: 10 ms, total: 1.52 s\n",
      "Wall time: 1.52 s\n"
     ]
    }
   ],
   "source": [
    "%%time\n",
    "_ = sim.run()"
   ]
  },
  {
   "cell_type": "code",
   "execution_count": 11,
   "id": "b8e79149-c55a-4079-adb5-71ba7c5e575a",
   "metadata": {},
   "outputs": [
    {
     "name": "stdout",
     "output_type": "stream",
     "text": [
      "{'estimator': 'first_reach', 'hit_ratio': 0.3, 'inverse_rank': 0.3523662176045882, 'entropy': 4.532801445564802, 'ndcg': 0.4358731029514205, 'message_spread_ratio': 1.0}\n",
      "CPU times: user 115 ms, sys: 3.81 ms, total: 119 ms\n",
      "Wall time: 118 ms\n"
     ]
    },
    {
     "name": "stderr",
     "output_type": "stream",
     "text": [
      "/home/fberes/sztaki/git/ethsim/ethp2psim/simulator.py:311: RuntimeWarning: divide by zero encountered in log2\n",
      "  cross_entropies.append(-np.log2(self.probas.loc[msg.mid, msg.source]))\n"
     ]
    }
   ],
   "source": [
    "%%time\n",
    "evaluator = Evaluator(sim, \"first_reach\")\n",
    "print(evaluator.get_report())"
   ]
  },
  {
   "cell_type": "code",
   "execution_count": 14,
   "id": "8b726c0c-4b2f-4418-ab5a-c9daa81f7ff0",
   "metadata": {},
   "outputs": [
    {
     "name": "stdout",
     "output_type": "stream",
     "text": [
      "{'estimator': 'first_sent', 'hit_ratio': 0.4, 'inverse_rank': 0.45227720008944905, 'entropy': 3.6504265766675963, 'ndcg': 0.5250789748617699, 'message_spread_ratio': 1.0}\n",
      "CPU times: user 144 ms, sys: 13 µs, total: 144 ms\n",
      "Wall time: 143 ms\n"
     ]
    },
    {
     "name": "stderr",
     "output_type": "stream",
     "text": [
      "/home/fberes/sztaki/git/ethsim/ethp2psim/simulator.py:311: RuntimeWarning: divide by zero encountered in log2\n",
      "  cross_entropies.append(-np.log2(self.probas.loc[msg.mid, msg.source]))\n"
     ]
    }
   ],
   "source": [
    "%%time\n",
    "evaluator = Evaluator(sim, \"first_sent\")\n",
    "print(evaluator.get_report())"
   ]
  },
  {
   "cell_type": "code",
   "execution_count": 13,
   "id": "7a19ecf9-d7ef-4c7c-92d0-0ec5b10d3b48",
   "metadata": {},
   "outputs": [
    {
     "name": "stdout",
     "output_type": "stream",
     "text": [
      "{'estimator': 'dummy', 'hit_ratio': 0.0, 'inverse_rank': 0.005353680457593244, 'entropy': 9.813781191217043, 'ndcg': 0.12628442924180622, 'message_spread_ratio': 1.0}\n",
      "CPU times: user 38.3 ms, sys: 0 ns, total: 38.3 ms\n",
      "Wall time: 37.3 ms\n"
     ]
    }
   ],
   "source": [
    "%%time\n",
    "evaluator = Evaluator(sim, \"dummy\")\n",
    "print(evaluator.get_report())"
   ]
  },
  {
   "cell_type": "markdown",
   "id": "889a6e20-da0a-49f4-af42-f5d4900a08cb",
   "metadata": {
    "tags": []
   },
   "source": [
    "# TOREP first steps"
   ]
  },
  {
   "cell_type": "markdown",
   "id": "afb97eb4-c1fe-4476-9efa-a37a707cedbb",
   "metadata": {},
   "source": [
    "rng = np.random.default_rng(32)\n",
    "G = nx.random_regular_graph(3,10,seed=rng)\n",
    "print(list(G.neighbors(0)))\n",
    "nx.draw(G)"
   ]
  },
  {
   "cell_type": "markdown",
   "id": "4e6f3e09-22ef-478a-9fae-7c443e5bb98e",
   "metadata": {},
   "source": [
    "rng = np.random.default_rng(32)\n",
    "rng.choice(G.nodes(), 3)"
   ]
  },
  {
   "cell_type": "markdown",
   "id": "40b4628f-bc58-48ef-a9a1-474a6644c76c",
   "metadata": {},
   "source": [
    "net = Network(nw_generator, ew_generator, num_nodes=1000, k=20)"
   ]
  },
  {
   "cell_type": "markdown",
   "id": "b8ef87c4-b316-4c18-bbb7-c3b16620a4d0",
   "metadata": {},
   "source": [
    "seed = 41\n",
    "net = Network(nw_generator, ew_generator, num_nodes=10, k=2, seed=seed)"
   ]
  },
  {
   "cell_type": "markdown",
   "id": "d46cdd7d-cfdf-41a0-8bd2-53325a357fea",
   "metadata": {},
   "source": [
    "np.mean(list(dict(net.graph.degree).values()))"
   ]
  },
  {
   "cell_type": "markdown",
   "id": "904dcdfa-54c5-481d-adaf-60d0f17b9631",
   "metadata": {},
   "source": [
    "tor = TOREnhancedProtocol(net, 1, 2, broadcast_mode=\"all\", seed=seed)"
   ]
  },
  {
   "cell_type": "markdown",
   "id": "4b9e4768-dc99-4d5c-b0e6-f29f21efd8f1",
   "metadata": {},
   "source": [
    "np.mean(list(dict(net.graph.degree).values()))"
   ]
  },
  {
   "cell_type": "markdown",
   "id": "935c7590-5af2-432e-9a11-cb0463a8eb0e",
   "metadata": {},
   "source": [
    "tor.tor_network"
   ]
  },
  {
   "cell_type": "markdown",
   "id": "3171573b-f9ed-4df3-bb3c-55951544eb4b",
   "metadata": {},
   "source": [
    "msg = Message(0)\n",
    "adv = Adversary(tor, 0.3, seed=seed)"
   ]
  },
  {
   "cell_type": "markdown",
   "id": "364b7eac-fc18-40f8-a788-b12c010e4884",
   "metadata": {},
   "source": [
    "adv.nodes"
   ]
  },
  {
   "cell_type": "markdown",
   "id": "caec86ba-3810-410c-a524-a542da934d92",
   "metadata": {},
   "source": [
    "msg.queue"
   ]
  },
  {
   "cell_type": "markdown",
   "id": "143ec449-fb31-4ce7-85a6-93e967c343f5",
   "metadata": {},
   "source": [
    "msg.process(tor, adv)"
   ]
  },
  {
   "cell_type": "markdown",
   "id": "49f463a1-d517-4eee-bf7f-af24c38d1c11",
   "metadata": {},
   "source": [
    "list(net.graph.neighbors(4))"
   ]
  },
  {
   "cell_type": "code",
   "execution_count": 6,
   "id": "458f9c1b",
   "metadata": {},
   "outputs": [
    {
     "name": "stdout",
     "output_type": "stream",
     "text": [
      "323af92bd4b042cf8288e53aa4b6a73a 0.1 0\n",
      "323af92bd4b042cf8288e53aa4b6a73a 0.2 0\n",
      "323af92bd4b042cf8288e53aa4b6a73a 0.3 0\n",
      "323af92bd4b042cf8288e53aa4b6a73a 0.4 0\n",
      "323af92bd4b042cf8288e53aa4b6a73a 0.5 0\n",
      "323af92bd4b042cf8288e53aa4b6a73a 0.5 1\n",
      "323af92bd4b042cf8288e53aa4b6a73a 0.6 0\n",
      "323af92bd4b042cf8288e53aa4b6a73a 0.7 0\n",
      "323af92bd4b042cf8288e53aa4b6a73a 0.8 0\n",
      "323af92bd4b042cf8288e53aa4b6a73a 0.8 1\n",
      "323af92bd4b042cf8288e53aa4b6a73a 0.8 2\n",
      "323af92bd4b042cf8288e53aa4b6a73a 0.9 0\n",
      "323af92bd4b042cf8288e53aa4b6a73a 0.9 1\n",
      "323af92bd4b042cf8288e53aa4b6a73a 0.9 2\n",
      "323af92bd4b042cf8288e53aa4b6a73a 0.9 3\n",
      "323af92bd4b042cf8288e53aa4b6a73a 1.0 0\n",
      "\n",
      "DandelionPlusPlusProtocol(spreading_proba=0.5000, broadcast_mode=all)\n",
      "captured messages {'323af92bd4b042cf8288e53aa4b6a73a'}\n",
      "received from 1\n",
      "Prediction results                                          0         7    1    2         3  \\\n",
      "323af92bd4b042cf8288e53aa4b6a73a  0.242424  0.060606  0.0  0.0  0.121212   \n",
      "\n",
      "                                         4         5         8         9  \\\n",
      "323af92bd4b042cf8288e53aa4b6a73a  0.242424  0.121212  0.030303  0.060606   \n",
      "\n",
      "                                         6  \n",
      "323af92bd4b042cf8288e53aa4b6a73a  0.121212  \n",
      "8 [(1, 1.0), (5, 1.0), (9, 1.0), (0, 0.5), (4, 0.5), (7, 0.5), (8, 0.5), (3, 0.25)]\n",
      "1    0.190476\n",
      "5    0.190476\n",
      "9    0.190476\n",
      "0    0.095238\n",
      "4    0.095238\n",
      "7    0.095238\n",
      "8    0.095238\n",
      "3    0.047619\n",
      "dtype: float64\n"
     ]
    },
    {
     "data": {
      "image/png": "[encoded data removed]",
      "text/plain": [
       "<Figure size 640x480 with 1 Axes>"
      ]
     },
     "metadata": {},
     "output_type": "display_data"
    }
   ],
   "source": [
    "nw_generator = NodeWeightGenerator(\"random\")\n",
    "ew_generator = EdgeWeightGenerator(\"normal\")\n",
    "seed = 44\n",
    "net = Network(nw_generator, ew_generator, num_nodes=10, k=3, seed=seed)\n",
    "dp = DandelionPlusPlusProtocol(net, 0.5, seed=seed, broadcast_mode=\"all\")\n",
    "adv = DandelionAdversary(dp, adversaries=[2], seed=seed)\n",
    "sim = Simulator(adv, messages=[Message(7)], seed=seed, verbose=True)\n",
    "sim.run()\n",
    "print(dp)\n",
    "nx.draw(dp.anonymity_graph, with_labels=True)\n",
    "print(\"captured messages\", sim.adversary.captured_msgs)\n",
    "print(\"Prediction results\", sim.adversary.predict_msg_source(\"first_reach\"))\n",
    "candidates = sim.adversary._find_candidates_on_line_graph(6)\n",
    "print(len(candidates), candidates)\n",
    "nodes, weights = zip(*candidates)\n",
    "weights = np.array(weights) / np.sum(weights)\n",
    "print(pd.Series(data=weights, index=nodes))"
   ]
  },
  {
   "cell_type": "code",
   "execution_count": null,
   "id": "7f989943",
   "metadata": {},
   "outputs": [],
   "source": []
  }
 ],
 "metadata": {
  "kernelspec": {
   "display_name": "Python 3 (ipykernel)",
   "language": "python",
   "name": "python3"
  },
  "language_info": {
   "codemirror_mode": {
    "name": "ipython",
    "version": 3
   },
   "file_extension": ".py",
   "mimetype": "text/x-python",
   "name": "python",
   "nbconvert_exporter": "python",
   "pygments_lexer": "ipython3",
   "version": "3.8.15"
  }
 },
 "nbformat": 4,
 "nbformat_minor": 5
}
