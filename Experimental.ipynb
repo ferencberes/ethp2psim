{
 "cells": [
  {
   "cell_type": "code",
   "execution_count": null,
   "id": "165e944e-c63c-491e-920c-66979d4666fe",
   "metadata": {},
   "outputs": [],
   "source": [
    "import networkx as nx\n",
    "import matplotlib.pyplot as plt\n",
    "import seaborn as sns\n",
    "import numpy as np"
   ]
  },
  {
   "cell_type": "code",
   "execution_count": null,
   "id": "a8f771e6-18a2-4591-81a4-3467dd11e738",
   "metadata": {},
   "outputs": [],
   "source": [
    "import sys\n",
    "sys.path.insert(0, \"python\")\n",
    "from network import *\n",
    "from protocols import *\n",
    "from adversary import *\n",
    "from simulator import *"
   ]
  },
  {
   "cell_type": "code",
   "execution_count": null,
   "id": "e5a1930a-43e7-45cb-891e-d6c893a579c3",
   "metadata": {},
   "outputs": [],
   "source": [
    "def shorten_protocol_name(x: str):\n",
    "    val = x.replace(\"Protocol\",\"\").replace(\"spreading_proba\",\"p\")\n",
    "    val = val.split(\"broadcast\")[0][:-1].replace(\"(\", \": \")\n",
    "    if val[-1] == \",\":\n",
    "        val = val[:-1]\n",
    "    return val"
   ]
  },
  {
   "cell_type": "code",
   "execution_count": null,
   "id": "73b2f9a3-9208-4737-80bf-a39133f54600",
   "metadata": {},
   "outputs": [],
   "source": [
    "nw_generator = NodeWeightGenerator(\"random\")\n",
    "ew_generator = EdgeWeightGenerator(\"normal\")"
   ]
  },
  {
   "cell_type": "markdown",
   "id": "487965c1-4a45-4e89-b028-0f74a80389c1",
   "metadata": {},
   "source": [
    "# Dandelion example"
   ]
  },
  {
   "cell_type": "code",
   "execution_count": null,
   "id": "1a16a9d4-0766-4913-98fa-8921ada4d2aa",
   "metadata": {},
   "outputs": [],
   "source": [
    "net = Network(nw_generator, ew_generator, num_nodes=1000, k=20)"
   ]
  },
  {
   "cell_type": "code",
   "execution_count": null,
   "id": "6eee4f4e-c8f2-4537-b646-340cd4748833",
   "metadata": {},
   "outputs": [],
   "source": [
    "dp = DandelionProtocol(net, 0.5)"
   ]
  },
  {
   "cell_type": "markdown",
   "id": "43233dcb-c096-485b-8590-6cb805fe0253",
   "metadata": {},
   "source": [
    "dp = DandelionPlusPlusProtocol(net, 0.5)"
   ]
  },
  {
   "cell_type": "markdown",
   "id": "23a115b3-e475-4963-b7f6-e543e9a7bc43",
   "metadata": {},
   "source": [
    "nx.draw(dp.anonymity_graph, node_size=20)"
   ]
  },
  {
   "cell_type": "code",
   "execution_count": null,
   "id": "32455f09-f154-411d-b4b5-84d48cbad05f",
   "metadata": {},
   "outputs": [],
   "source": [
    "%%time\n",
    "adv = Adversary(net, 0.1)\n",
    "sim = Simulator(dp, adv, 30, verbose=False)\n",
    "sim.run()"
   ]
  },
  {
   "cell_type": "code",
   "execution_count": null,
   "id": "74206e35-7ba1-4b23-8f8b-4bedbaad08f3",
   "metadata": {},
   "outputs": [],
   "source": [
    "%%time\n",
    "evaluator = Evaluator(sim, \"first_reach\")\n",
    "print(evaluator.get_report())"
   ]
  },
  {
   "cell_type": "code",
   "execution_count": null,
   "id": "513b4f8b-6d3b-4544-9c5c-9dd45730db11",
   "metadata": {},
   "outputs": [],
   "source": [
    "%%time\n",
    "evaluator = Evaluator(sim, \"first_sent\")\n",
    "print(evaluator.get_report())"
   ]
  },
  {
   "cell_type": "code",
   "execution_count": null,
   "id": "b694d0af-5777-4b5e-b441-4908a68f558a",
   "metadata": {},
   "outputs": [],
   "source": [
    "%%time\n",
    "evaluator = Evaluator(sim, \"dummy\")\n",
    "print(evaluator.get_report())"
   ]
  },
  {
   "cell_type": "markdown",
   "id": "d63f7ee3-4aae-441e-b456-e31e50c73860",
   "metadata": {},
   "source": [
    "# Spreading time experiment"
   ]
  },
  {
   "cell_type": "code",
   "execution_count": null,
   "id": "dae60371-b86c-481a-9c86-531f07013f42",
   "metadata": {},
   "outputs": [],
   "source": [
    "%%time\n",
    "bc_mode=\"sqrt\"\n",
    "net = Network(nw_generator, ew_generator, num_nodes=100, k=10)\n",
    "print(net.num_nodes)\n",
    "protocols = [\n",
    "    DandelionProtocol(net, 0.5, broadcast_mode=bc_mode),\n",
    "    DandelionProtocol(net, 0.25, broadcast_mode=bc_mode),\n",
    "    DandelionPlusPlusProtocol(net, 0.5, broadcast_mode=bc_mode),\n",
    "    DandelionPlusPlusProtocol(net, 0.25, broadcast_mode=bc_mode),\n",
    "    BroadcastProtocol(net, broadcast_mode=bc_mode)\n",
    "]\n",
    "\n",
    "for protocol in protocols:\n",
    "    sim = Simulator(protocol, adv, 10, verbose=False)\n",
    "    msg_cov = sim.run(coverage_threshold=1.0)\n",
    "    #print(msg_cov)\n",
    "    print(np.mean(msg_cov))\n",
    "    x = np.arange(0.1,1.0,0.1)\n",
    "    mean_quantiles, std_quantiles = sim.node_contact_time_quantiles(x)\n",
    "    name = shorten_protocol_name(str(protocol)) if not \"Broadcast\" in str(protocol) else str(protocol)\n",
    "    plt.plot(x, mean_quantiles, label=name)\n",
    "plt.legend()\n",
    "plt.ylabel(\"time (ms)\")\n",
    "plt.xlabel(\"quantiles\")"
   ]
  },
  {
   "cell_type": "markdown",
   "id": "f57a9ecb-395b-4b9f-9d0a-6ea39cc75ecb",
   "metadata": {},
   "source": [
    "# Experiment example"
   ]
  },
  {
   "cell_type": "code",
   "execution_count": null,
   "id": "a325d314-a045-4b94-b099-adec320a464d",
   "metadata": {},
   "outputs": [],
   "source": [
    "network_size = 1000\n",
    "config = {\n",
    "    \"network_size\" : network_size,\n",
    "    \"num_msg\" : int(network_size*0.05),\n",
    "    \"degree\" : 50,\n",
    "    \"bc_mode\" : \"sqrt\",\n",
    "    \"dandelion_bc_probas\" : [0.5, 0.25, 0.1]\n",
    "}\n",
    "adversary_ratios = [0.01,0.05,0.1,0.2]\n",
    "num_trials = 2\n",
    "max_threads = 2"
   ]
  },
  {
   "cell_type": "code",
   "execution_count": null,
   "id": "c6fa4320-0b4e-4166-8538-ace170a45162",
   "metadata": {},
   "outputs": [],
   "source": [
    "print(config)"
   ]
  },
  {
   "cell_type": "code",
   "execution_count": null,
   "id": "82b87e7d-2f4b-4283-9024-a723a927724c",
   "metadata": {},
   "outputs": [],
   "source": [
    "from tqdm.notebook import tqdm"
   ]
  },
  {
   "cell_type": "markdown",
   "id": "41163145-018c-45f5-8625-7a449e13a43a",
   "metadata": {},
   "source": [
    "### Messages are propagated until full coverage"
   ]
  },
  {
   "cell_type": "code",
   "execution_count": null,
   "id": "96b0149b-a75c-4643-91a7-65c91211888d",
   "metadata": {},
   "outputs": [],
   "source": [
    "import os\n",
    "print(os.cpu_count())"
   ]
  },
  {
   "cell_type": "code",
   "execution_count": null,
   "id": "bed24285-40ae-4b71-b01d-9cbe5b735413",
   "metadata": {},
   "outputs": [],
   "source": [
    "def run_and_eval(net: Network, adv: Adversary, protocol: Protocol, num_msg: int):\n",
    "    sim = Simulator(protocol, adv, num_msg, verbose=False)\n",
    "    sim.run(coverage_threshold=1.0)\n",
    "    reports = []\n",
    "    for estimator in [\"first_reach\",\"first_sent\"]:\n",
    "        evaluator = Evaluator(sim, estimator)\n",
    "        report = evaluator.get_report()\n",
    "        report[\"protocol\"] = str(protocol)\n",
    "        report[\"adversary_ratio\"] = adv.ratio\n",
    "        reports.append(report)\n",
    "    return reports, sim"
   ]
  },
  {
   "cell_type": "code",
   "execution_count": null,
   "id": "53df739c-1c0e-47b4-a735-1c3423972454",
   "metadata": {},
   "outputs": [],
   "source": [
    "def run_single_experiment(config):\n",
    "    net = Network(nw_generator, ew_generator, config[\"network_size\"], config[\"degree\"])\n",
    "    adv = Adversary(net, config[\"adv_ratio\"], config[\"is_active_adversary\"])\n",
    "    protocols = [BroadcastProtocol(net, broadcast_mode=config[\"bc_mode\"])]\n",
    "    for broadcast_proba in config[\"dandelion_bc_probas\"]:\n",
    "        protocols.append(DandelionProtocol(net, broadcast_proba, broadcast_mode=config[\"bc_mode\"]))\n",
    "        protocols.append(DandelionPlusPlusProtocol(net, broadcast_proba, broadcast_mode=config[\"bc_mode\"]))\n",
    "    single_run_results = []\n",
    "    for protocol in protocols:\n",
    "        new_reports, sim = run_and_eval(net, adv, protocol, config[\"num_msg\"])\n",
    "        single_run_results += new_reports\n",
    "    print(config[\"adv_ratio\"])\n",
    "    return single_run_results"
   ]
  },
  {
   "cell_type": "code",
   "execution_count": null,
   "id": "5de4be79-edc9-49dc-aa0f-8b631b09789e",
   "metadata": {},
   "outputs": [],
   "source": [
    "from concurrent.futures import ThreadPoolExecutor, ProcessPoolExecutor"
   ]
  },
  {
   "cell_type": "code",
   "execution_count": null,
   "id": "b9d70cd2-3846-491b-b2c3-a29a37445cac",
   "metadata": {},
   "outputs": [],
   "source": [
    "def run_experiment(adversary_ratios, num_trials, config, is_active_adversary=False, max_workers=1):\n",
    "    executor = ThreadPoolExecutor(max_workers=max_workers)\n",
    "    queries = []\n",
    "    for adv_ratio in adversary_ratios*num_trials:\n",
    "        query = config.copy()\n",
    "        query[\"adv_ratio\"] = adv_ratio\n",
    "        query[\"is_active_adversary\"] = is_active_adversary\n",
    "        queries.append(query)\n",
    "    #print(queries)\n",
    "    pool = executor.map(run_single_experiment, queries)\n",
    "    executor.shutdown()\n",
    "    results = []\n",
    "    for res in pool:\n",
    "        results += res\n",
    "    results_df = pd.DataFrame(results)\n",
    "    return results_df"
   ]
  },
  {
   "cell_type": "code",
   "execution_count": null,
   "id": "ffe20efa-05e8-470e-9ded-437b9bacd6ad",
   "metadata": {},
   "outputs": [],
   "source": [
    "%%time\n",
    "results_df = run_experiment(adversary_ratios, num_trials, config, False, max_threads)"
   ]
  },
  {
   "cell_type": "code",
   "execution_count": null,
   "id": "724f4e3a-1c33-4e3b-a44c-dcd564f164d2",
   "metadata": {},
   "outputs": [],
   "source": [
    "len(results_df)"
   ]
  },
  {
   "cell_type": "code",
   "execution_count": null,
   "id": "2ce136d7-5517-40a2-abea-1fa13e74ab78",
   "metadata": {},
   "outputs": [],
   "source": [
    "def shorten_protocol_names_for_df(df, col=\"protocol\"):\n",
    "    tmp_df = df.copy()\n",
    "    tmp_df[col] = tmp_df[col].apply(shorten_protocol_name)\n",
    "    return tmp_df"
   ]
  },
  {
   "cell_type": "code",
   "execution_count": null,
   "id": "4ce2dca4-85f7-4a1f-9577-205ce1530394",
   "metadata": {},
   "outputs": [],
   "source": [
    "results_df_short = shorten_protocol_names_for_df(results_df)"
   ]
  },
  {
   "cell_type": "code",
   "execution_count": null,
   "id": "cc32048f-287f-4313-af8b-97c3c5d39df8",
   "metadata": {},
   "outputs": [],
   "source": [
    "fr_results_df = results_df_short[results_df_short[\"estimator\"]==\"first_reach\"]\n",
    "fs_results_df = results_df_short[results_df_short[\"estimator\"]==\"first_sent\"]\n",
    "print(fr_results_df.shape, fs_results_df.shape)"
   ]
  },
  {
   "cell_type": "markdown",
   "id": "2533238c-fb69-4e7e-a4fb-60b6e6972418",
   "metadata": {},
   "source": [
    "## a.) Adversary performance\n",
    "\n",
    "- First-sent estimator performs better than first reach - **OK**"
   ]
  },
  {
   "cell_type": "code",
   "execution_count": null,
   "id": "5a10ae1e-e151-4c11-8ee2-e6eff7ca01ac",
   "metadata": {},
   "outputs": [],
   "source": [
    "fr_results_df_short = shorten_protocol_names_for_df(fr_results_df)\n",
    "fs_results_df_short = shorten_protocol_names_for_df(fs_results_df)"
   ]
  },
  {
   "cell_type": "code",
   "execution_count": null,
   "id": "e0a3d5b2-ccb9-4fe9-abe1-21eb7c1a957f",
   "metadata": {},
   "outputs": [],
   "source": [
    "fig, ax = plt.subplots(3,2, figsize=(20,18))\n",
    "sns.boxplot(data=fr_results_df, x=\"adversary_ratio\", y=\"hit_ratio\", hue=\"protocol\", ax=ax[0][0])\n",
    "sns.boxplot(data=fr_results_df, x=\"adversary_ratio\", y=\"inverse_rank\", hue=\"protocol\", ax=ax[1][0])\n",
    "sns.boxplot(data=fr_results_df, x=\"adversary_ratio\", y=\"ndcg\", hue=\"protocol\", ax=ax[2][0])\n",
    "sns.boxplot(data=fs_results_df, x=\"adversary_ratio\", y=\"hit_ratio\", hue=\"protocol\", ax=ax[0][1])\n",
    "sns.boxplot(data=fs_results_df, x=\"adversary_ratio\", y=\"inverse_rank\", hue=\"protocol\", ax=ax[1][1])\n",
    "sns.boxplot(data=fs_results_df, x=\"adversary_ratio\", y=\"ndcg\", hue=\"protocol\", ax=ax[2][1])\n",
    "for i in range(3):\n",
    "    for j in range(2):\n",
    "        ax[i][j].set_title(\"First-reach estimator\" if j % 2 == 0 else \"First-sent estimator\")\n",
    "        ax[i][j].set_ylim(0,1.0)"
   ]
  },
  {
   "cell_type": "markdown",
   "id": "6287a527-9328-4085-8095-31ff3a333f3e",
   "metadata": {},
   "source": [
    "While the fraction of nodes reached by messages are the same range for all protocols:\n",
    "- actually, almost all nodes are reached by the messages (due to `coverage_threshold=1.0` setting) - **OK**"
   ]
  },
  {
   "cell_type": "code",
   "execution_count": null,
   "id": "653bedac-8d46-439d-93f1-4ebebf28cc11",
   "metadata": {},
   "outputs": [],
   "source": [
    "fig, ax = plt.subplots(1,1, figsize=(20,6))\n",
    "sns.boxplot(data=results_df_short, x=\"adversary_ratio\", y=\"message_spread_ratio\", hue=\"protocol\", ax=ax)"
   ]
  },
  {
   "cell_type": "markdown",
   "id": "0686eb31-41a8-467a-a3df-32dd9506f804",
   "metadata": {},
   "source": [
    "## b.) Passive vs. active adversary\n",
    "\n",
    "**active adversary:** simply does not forward the received message\n",
    "\n",
    "**passive adversary:** forwards every message according to protocol rules"
   ]
  },
  {
   "cell_type": "code",
   "execution_count": null,
   "id": "3110b9ae-2b53-4880-b3a9-ed414bfb0ecd",
   "metadata": {},
   "outputs": [],
   "source": [
    "%%time\n",
    "active_results_df = run_experiment(adversary_ratios, num_trials, config, False, max_threads)\n",
    "active_results_df = active_results_df[active_results_df[\"estimator\"]==\"first_sent\"]\n",
    "active_results_df.shape"
   ]
  },
  {
   "cell_type": "code",
   "execution_count": null,
   "id": "22c805b7-05bc-43c5-a194-38556e804396",
   "metadata": {},
   "outputs": [],
   "source": [
    "active_results_df_short = shorten_protocol_names_for_df(active_results_df)"
   ]
  },
  {
   "cell_type": "markdown",
   "id": "392a7b4b-8efe-49a2-b870-c240eee6f541",
   "metadata": {},
   "source": [
    "The results show that **longer stem-phase in the Dandelion protocol** (low broadcast probability) **have a negative impact on the message spread ratio** (ratio of all nodes who receives the message) - as expected."
   ]
  },
  {
   "cell_type": "code",
   "execution_count": null,
   "id": "e60fab35-1cbb-4f38-a0d9-8a434692ceef",
   "metadata": {},
   "outputs": [],
   "source": [
    "fig, ax = plt.subplots(1,2, figsize=(20,6))\n",
    "sns.boxplot(data=results_df_short, x=\"adversary_ratio\", y=\"message_spread_ratio\", hue=\"protocol\", ax=ax[0])\n",
    "ax[0].set_title(\"Passive adversary\")\n",
    "ax[0].set_ylim(0.1,1.0)\n",
    "sns.boxplot(data=active_results_df_short, x=\"adversary_ratio\", y=\"message_spread_ratio\", hue=\"protocol\", ax=ax[1])\n",
    "ax[1].set_title(\"Active adversary\")\n",
    "ax[1].set_ylim(0.1,1.0)"
   ]
  },
  {
   "cell_type": "code",
   "execution_count": null,
   "id": "7a116c09",
   "metadata": {},
   "outputs": [],
   "source": [
    "import sys, os, pytest\n",
    "\n",
    "sys.path.insert(0, \"%s/python\" % os.getcwd())\n",
    "import networkx as nx\n",
    "from network import Network, NodeWeightGenerator, EdgeWeightGenerator\n",
    "from simulator import Simulator, Evaluator\n",
    "from message import Message\n",
    "from protocols import BroadcastProtocol, DandelionProtocol, DandelionPlusPlusProtocol\n",
    "from adversary import Adversary"
   ]
  },
  {
   "cell_type": "code",
   "execution_count": null,
   "id": "7a8f79c8-14f8-4c28-97af-49c8b3d52ebc",
   "metadata": {},
   "outputs": [],
   "source": [
    "### First sent vs First reach test\n",
    "rnd_node_weight = NodeWeightGenerator(\"random\")\n",
    "rnd_edge_weight = EdgeWeightGenerator(\"random\")\n",
    "G = nx.DiGraph()\n",
    "G.add_nodes_from([1, 2, 3])\n",
    "G.add_weighted_edges_from([(1, 2, 0.9), (1, 3, 1.84),(2, 3, 1.01)], weight=\"latency\")\n",
    "print(nx.draw(G,with_labels=True))\n",
    "net = Network(rnd_node_weight, EdgeWeightGenerator(\"custom\"), graph=G)\n",
    "protocol = BroadcastProtocol(net, seed=44)\n",
    "adv = Adversary(net, ratio=0.0, adversaries=[2])\n",
    "print(adv.nodes)\n",
    "assert 3 in adv.nodes\n",
    "\n",
    "# start a message from Node 1\n",
    "msg = Message(1)\n",
    "receiver_order = [1, 2, 2, 2]\n",
    "for i, receiver in enumerate(receiver_order):\n",
    "    msg.process(protocol, adv)\n",
    "    print(i,receiver,msg.history)\n",
    "    assert receiver in msg.history\n",
    "    # assert len(msg.history) == i + 1"
   ]
  },
  {
   "cell_type": "code",
   "execution_count": null,
   "id": "28434cdf",
   "metadata": {},
   "outputs": [],
   "source": [
    "sim = Simulator(protocol, adv, 1, True)\n",
    "sim.run(1.0)\n",
    "for estimator in [\"first_reach\", \"first_sent\"]:\n",
    "    evaluator = Evaluator(sim, estimator)\n",
    "    results = [\n",
    "        evaluator.exact_hits,\n",
    "        evaluator.ranks,\n",
    "        evaluator.inverse_ranks,\n",
    "        evaluator.entropies,\n",
    "    ]\n",
    "    for i in results:\n",
    "        print(estimator, i)"
   ]
  }
 ],
 "metadata": {
  "kernelspec": {
   "display_name": "Python 3 (ipykernel)",
   "language": "python",
   "name": "python3"
  },
  "language_info": {
   "codemirror_mode": {
    "name": "ipython",
    "version": 3
   },
   "file_extension": ".py",
   "mimetype": "text/x-python",
   "name": "python",
   "nbconvert_exporter": "python",
   "pygments_lexer": "ipython3",
   "version": "3.8.15"
  }
 },
 "nbformat": 4,
 "nbformat_minor": 5
}
